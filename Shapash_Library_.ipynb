{
  "nbformat": 4,
  "nbformat_minor": 0,
  "metadata": {
    "colab": {
      "name": "Shapash - Library .ipynb",
      "provenance": [],
      "collapsed_sections": [],
      "authorship_tag": "ABX9TyMsqhnsaWxFRAqc2vjoRbXF",
      "include_colab_link": true
    },
    "kernelspec": {
      "name": "python3",
      "display_name": "Python 3"
    },
    "language_info": {
      "name": "python"
    }
  },
  "cells": [
    {
      "cell_type": "markdown",
      "metadata": {
        "id": "view-in-github",
        "colab_type": "text"
      },
      "source": [
        "<a href=\"https://colab.research.google.com/github/sairamdgr8/special-Libraries/blob/main/Shapash_Library_.ipynb\" target=\"_parent\"><img src=\"https://colab.research.google.com/assets/colab-badge.svg\" alt=\"Open In Colab\"/></a>"
      ]
    },
    {
      "cell_type": "code",
      "metadata": {
        "colab": {
          "base_uri": "https://localhost:8080/"
        },
        "id": "THdAOB8dV5qm",
        "outputId": "aaebcc57-1290-45ca-bf2a-f73b39e5404d"
      },
      "source": [
        "!pip install shapash"
      ],
      "execution_count": 1,
      "outputs": [
        {
          "output_type": "stream",
          "text": [
            "Collecting shapash\n",
            "\u001b[?25l  Downloading https://files.pythonhosted.org/packages/b5/75/fd117ed9c91408d65dbb7ed9757738d0cd3cc842c78eb0c83b4256620519/shapash-1.2.0-py2.py3-none-any.whl (841kB)\n",
            "\u001b[K     |████████████████████████████████| 849kB 6.6MB/s \n",
            "\u001b[?25hCollecting dash-table==4.11.0\n",
            "\u001b[?25l  Downloading https://files.pythonhosted.org/packages/bb/46/cc839f897cabea3f584cf59ce9d86a5ea3828e54eefe2537ba8b640a9707/dash_table-4.11.0.tar.gz (1.8MB)\n",
            "\u001b[K     |████████████████████████████████| 1.8MB 22.3MB/s \n",
            "\u001b[?25hRequirement already satisfied: numba==0.51.2 in /usr/local/lib/python3.7/dist-packages (from shapash) (0.51.2)\n",
            "Collecting dash-bootstrap-components==0.9.1\n",
            "\u001b[?25l  Downloading https://files.pythonhosted.org/packages/c6/1c/745bb7c0019b8feee475c64542b7f0c6bf4b7d2df36cccd8db677a2f1cc7/dash-bootstrap-components-0.9.1.tar.gz (99kB)\n",
            "\u001b[K     |████████████████████████████████| 102kB 8.8MB/s \n",
            "\u001b[?25h  Installing build dependencies ... \u001b[?25l\u001b[?25hdone\n",
            "  Getting requirements to build wheel ... \u001b[?25l\u001b[?25hdone\n",
            "    Preparing wheel metadata ... \u001b[?25l\u001b[?25hdone\n",
            "Requirement already satisfied: pandas>1.0.2 in /usr/local/lib/python3.7/dist-packages (from shapash) (1.1.5)\n",
            "Collecting plotly==4.12.0\n",
            "\u001b[?25l  Downloading https://files.pythonhosted.org/packages/a6/66/af86e9d9bf1a3e4f2dabebeabd02a32e8ddf671a5d072b3af2b011efea99/plotly-4.12.0-py2.py3-none-any.whl (13.1MB)\n",
            "\u001b[K     |████████████████████████████████| 13.1MB 279kB/s \n",
            "\u001b[?25hCollecting shap==0.37.0\n",
            "\u001b[?25l  Downloading https://files.pythonhosted.org/packages/85/a3/c0eab9dd6a894165e2cb87504ff5b2710ac5ede3447d9138620b7341b6a2/shap-0.37.0.tar.gz (326kB)\n",
            "\u001b[K     |████████████████████████████████| 327kB 37.2MB/s \n",
            "\u001b[?25hRequirement already satisfied: nbformat>4.2.0 in /usr/local/lib/python3.7/dist-packages (from shapash) (5.1.2)\n",
            "Collecting dash-daq==0.5.0\n",
            "\u001b[?25l  Downloading https://files.pythonhosted.org/packages/16/c1/9c6adfc3646990965a5b2ca073f579cc9c09d15553fcfcd83aefd1255494/dash_daq-0.5.0.tar.gz (642kB)\n",
            "\u001b[K     |████████████████████████████████| 645kB 29.1MB/s \n",
            "\u001b[?25hCollecting dash-html-components==1.1.1\n",
            "\u001b[?25l  Downloading https://files.pythonhosted.org/packages/02/ba/bb9427c62feb25bfbaf243894eeeb4e7c67a92b426ed0575a167100e436e/dash_html_components-1.1.1.tar.gz (188kB)\n",
            "\u001b[K     |████████████████████████████████| 194kB 31.8MB/s \n",
            "\u001b[?25hCollecting dash==1.17.0\n",
            "\u001b[?25l  Downloading https://files.pythonhosted.org/packages/69/91/ae029886dda55b93b60ac04377bcb2ab9209dd73244e3b5e513124cc6778/dash-1.17.0.tar.gz (75kB)\n",
            "\u001b[K     |████████████████████████████████| 81kB 5.7MB/s \n",
            "\u001b[?25hRequirement already satisfied: numpy>1.18.0 in /usr/local/lib/python3.7/dist-packages (from shapash) (1.19.5)\n",
            "Collecting dash-renderer==1.8.3\n",
            "\u001b[?25l  Downloading https://files.pythonhosted.org/packages/72/fe/59a322edb128ad15205002c7b81e3f5e580f6791c4a100183289e05dbfcb/dash_renderer-1.8.3.tar.gz (1.0MB)\n",
            "\u001b[K     |████████████████████████████████| 1.0MB 29.4MB/s \n",
            "\u001b[?25hCollecting dash-core-components==1.13.0\n",
            "\u001b[?25l  Downloading https://files.pythonhosted.org/packages/52/48/3dd8c7bf93cff3a9dd9d360bc25c4ec0cb191acdce13375c3ff85f98e992/dash_core_components-1.13.0.tar.gz (3.5MB)\n",
            "\u001b[K     |████████████████████████████████| 3.5MB 31.3MB/s \n",
            "\u001b[?25hRequirement already satisfied: llvmlite<0.35,>=0.34.0.dev0 in /usr/local/lib/python3.7/dist-packages (from numba==0.51.2->shapash) (0.34.0)\n",
            "Requirement already satisfied: setuptools in /usr/local/lib/python3.7/dist-packages (from numba==0.51.2->shapash) (54.2.0)\n",
            "Requirement already satisfied: pytz>=2017.2 in /usr/local/lib/python3.7/dist-packages (from pandas>1.0.2->shapash) (2018.9)\n",
            "Requirement already satisfied: python-dateutil>=2.7.3 in /usr/local/lib/python3.7/dist-packages (from pandas>1.0.2->shapash) (2.8.1)\n",
            "Requirement already satisfied: retrying>=1.3.3 in /usr/local/lib/python3.7/dist-packages (from plotly==4.12.0->shapash) (1.3.3)\n",
            "Requirement already satisfied: six in /usr/local/lib/python3.7/dist-packages (from plotly==4.12.0->shapash) (1.15.0)\n",
            "Requirement already satisfied: scipy in /usr/local/lib/python3.7/dist-packages (from shap==0.37.0->shapash) (1.4.1)\n",
            "Requirement already satisfied: scikit-learn in /usr/local/lib/python3.7/dist-packages (from shap==0.37.0->shapash) (0.22.2.post1)\n",
            "Requirement already satisfied: tqdm>4.25.0 in /usr/local/lib/python3.7/dist-packages (from shap==0.37.0->shapash) (4.41.1)\n",
            "Collecting slicer==0.0.3\n",
            "  Downloading https://files.pythonhosted.org/packages/02/a6/c708c5a0f338e99cfbcb6288b88794525548e4fc1b8457feec2c552a81a4/slicer-0.0.3-py3-none-any.whl\n",
            "Requirement already satisfied: jupyter-core in /usr/local/lib/python3.7/dist-packages (from nbformat>4.2.0->shapash) (4.7.1)\n",
            "Requirement already satisfied: jsonschema!=2.5.0,>=2.4 in /usr/local/lib/python3.7/dist-packages (from nbformat>4.2.0->shapash) (2.6.0)\n",
            "Requirement already satisfied: ipython-genutils in /usr/local/lib/python3.7/dist-packages (from nbformat>4.2.0->shapash) (0.2.0)\n",
            "Requirement already satisfied: traitlets>=4.1 in /usr/local/lib/python3.7/dist-packages (from nbformat>4.2.0->shapash) (5.0.5)\n",
            "Requirement already satisfied: Flask>=1.0.2 in /usr/local/lib/python3.7/dist-packages (from dash==1.17.0->shapash) (1.1.2)\n",
            "Collecting flask-compress\n",
            "  Downloading https://files.pythonhosted.org/packages/c6/d5/69b13600230d24310b98a52da561113fc01a5c17acf77152761eef3e50f1/Flask_Compress-1.9.0-py3-none-any.whl\n",
            "Requirement already satisfied: future in /usr/local/lib/python3.7/dist-packages (from dash==1.17.0->shapash) (0.16.0)\n",
            "Requirement already satisfied: joblib>=0.11 in /usr/local/lib/python3.7/dist-packages (from scikit-learn->shap==0.37.0->shapash) (1.0.1)\n",
            "Requirement already satisfied: Werkzeug>=0.15 in /usr/local/lib/python3.7/dist-packages (from Flask>=1.0.2->dash==1.17.0->shapash) (1.0.1)\n",
            "Requirement already satisfied: Jinja2>=2.10.1 in /usr/local/lib/python3.7/dist-packages (from Flask>=1.0.2->dash==1.17.0->shapash) (2.11.3)\n",
            "Requirement already satisfied: click>=5.1 in /usr/local/lib/python3.7/dist-packages (from Flask>=1.0.2->dash==1.17.0->shapash) (7.1.2)\n",
            "Requirement already satisfied: itsdangerous>=0.24 in /usr/local/lib/python3.7/dist-packages (from Flask>=1.0.2->dash==1.17.0->shapash) (1.1.0)\n",
            "Collecting brotli\n",
            "\u001b[?25l  Downloading https://files.pythonhosted.org/packages/15/ea/5bd575511b37bbd1c794606a0a621e6feff8e96b7dd007a86a5d218b2d94/Brotli-1.0.9-cp37-cp37m-manylinux1_x86_64.whl (357kB)\n",
            "\u001b[K     |████████████████████████████████| 358kB 38.4MB/s \n",
            "\u001b[?25hRequirement already satisfied: MarkupSafe>=0.23 in /usr/local/lib/python3.7/dist-packages (from Jinja2>=2.10.1->Flask>=1.0.2->dash==1.17.0->shapash) (1.1.1)\n",
            "Building wheels for collected packages: dash-bootstrap-components\n",
            "  Building wheel for dash-bootstrap-components (PEP 517) ... \u001b[?25l\u001b[?25hdone\n",
            "  Created wheel for dash-bootstrap-components: filename=dash_bootstrap_components-0.9.1-cp37-none-any.whl size=170749 sha256=b5c9ee62679976ffa6ee05bc0cda053da275b65f2e9a0e6ae2eac112c8eb5c6f\n",
            "  Stored in directory: /root/.cache/pip/wheels/56/25/46/7cbcb9c004b9acf8955609df934c94ff17fab803bb0fde8a44\n",
            "Successfully built dash-bootstrap-components\n",
            "Building wheels for collected packages: dash-table, shap, dash-daq, dash-html-components, dash, dash-renderer, dash-core-components\n",
            "  Building wheel for dash-table (setup.py) ... \u001b[?25l\u001b[?25hdone\n",
            "  Created wheel for dash-table: filename=dash_table-4.11.0-cp37-none-any.whl size=1839768 sha256=ebef986d422c6950044d678a3caa913ae1314ac578ecd7c2797a85e96cba499c\n",
            "  Stored in directory: /root/.cache/pip/wheels/ca/37/90/bd45dcc5d6acbe6ac53f753a8f1732ecf5270017372e389cd8\n",
            "  Building wheel for shap (setup.py) ... \u001b[?25l\u001b[?25hdone\n",
            "  Created wheel for shap: filename=shap-0.37.0-cp37-cp37m-linux_x86_64.whl size=465031 sha256=43af7c0319291bd085d2c7fc831912bb91cf4c029f6a0302b6455819f0a1bd28\n",
            "  Stored in directory: /root/.cache/pip/wheels/df/ad/b0/aa7815ec68850d66551ef618095eccb962c8f6022f1d3dd989\n",
            "  Building wheel for dash-daq (setup.py) ... \u001b[?25l\u001b[?25hdone\n",
            "  Created wheel for dash-daq: filename=dash_daq-0.5.0-cp37-none-any.whl size=669704 sha256=6947513e9f1e9b46a5ed3612f25bd0a07b1a1ce4d38c8c60f8db6202de32bf87\n",
            "  Stored in directory: /root/.cache/pip/wheels/1c/9c/f7/84731716eaa9fc952cdbdd1f87df3ca9b8805c317c609efcd6\n",
            "  Building wheel for dash-html-components (setup.py) ... \u001b[?25l\u001b[?25hdone\n",
            "  Created wheel for dash-html-components: filename=dash_html_components-1.1.1-cp37-none-any.whl size=427894 sha256=b1fcc3ea8d1839ea319f42698e907b223d27196ce004c8915adb557a4d1962fc\n",
            "  Stored in directory: /root/.cache/pip/wheels/8d/01/46/78e4de185a8a4a2da8ba31da16c52170f036d4cebeeb6e07a2\n",
            "  Building wheel for dash (setup.py) ... \u001b[?25l\u001b[?25hdone\n",
            "  Created wheel for dash: filename=dash-1.17.0-cp37-none-any.whl size=83727 sha256=ab2ddfe4a565ff61e5e513624878ff8ef2431d08145035ec13cfba8a80db4881\n",
            "  Stored in directory: /root/.cache/pip/wheels/e0/32/13/8a569b638a79cf80a4a721f56040d91198adec28e3bc8123fc\n",
            "  Building wheel for dash-renderer (setup.py) ... \u001b[?25l\u001b[?25hdone\n",
            "  Created wheel for dash-renderer: filename=dash_renderer-1.8.3-cp37-none-any.whl size=1013944 sha256=f821fe9beca0021a68a48098d44bfec34de52109bcf090904fb0b07d60135bbb\n",
            "  Stored in directory: /root/.cache/pip/wheels/cf/2b/5f/0928a6d1b7ebf280f21a2e925f36d662e6ba83e00b82c6b6bf\n",
            "  Building wheel for dash-core-components (setup.py) ... \u001b[?25l\u001b[?25hdone\n",
            "  Created wheel for dash-core-components: filename=dash_core_components-1.13.0-cp37-none-any.whl size=3513142 sha256=70bfc7e0a8d4429fb326f15931632965d94cf7bc35b5887ada3bd147806ebcdc\n",
            "  Stored in directory: /root/.cache/pip/wheels/44/d9/90/177214625a5b5f6440b24ea807550e07fbf439a495eee4dd36\n",
            "Successfully built dash-table shap dash-daq dash-html-components dash dash-renderer dash-core-components\n",
            "Installing collected packages: dash-table, brotli, flask-compress, plotly, dash-renderer, dash-core-components, dash-html-components, dash, dash-bootstrap-components, slicer, shap, dash-daq, shapash\n",
            "  Found existing installation: plotly 4.4.1\n",
            "    Uninstalling plotly-4.4.1:\n",
            "      Successfully uninstalled plotly-4.4.1\n",
            "Successfully installed brotli-1.0.9 dash-1.17.0 dash-bootstrap-components-0.9.1 dash-core-components-1.13.0 dash-daq-0.5.0 dash-html-components-1.1.1 dash-renderer-1.8.3 dash-table-4.11.0 flask-compress-1.9.0 plotly-4.12.0 shap-0.37.0 shapash-1.2.0 slicer-0.0.3\n"
          ],
          "name": "stdout"
        }
      ]
    },
    {
      "cell_type": "code",
      "metadata": {
        "id": "sDntqDUVW04I"
      },
      "source": [
        "import pandas as pd\n",
        "import numpy as np"
      ],
      "execution_count": 2,
      "outputs": []
    },
    {
      "cell_type": "code",
      "metadata": {
        "id": "F1a6n7Q5aSXh"
      },
      "source": [
        "df=pd.read_csv(\"/content/Shapash Library /healthcare-dataset-stroke-data.csv\")"
      ],
      "execution_count": 47,
      "outputs": []
    },
    {
      "cell_type": "code",
      "metadata": {
        "colab": {
          "base_uri": "https://localhost:8080/",
          "height": 258
        },
        "id": "3jhWuKZLadGM",
        "outputId": "e7c2cce1-f374-40b5-c7d3-56ce1448324a"
      },
      "source": [
        "df.head()"
      ],
      "execution_count": 4,
      "outputs": [
        {
          "output_type": "execute_result",
          "data": {
            "text/html": [
              "<div>\n",
              "<style scoped>\n",
              "    .dataframe tbody tr th:only-of-type {\n",
              "        vertical-align: middle;\n",
              "    }\n",
              "\n",
              "    .dataframe tbody tr th {\n",
              "        vertical-align: top;\n",
              "    }\n",
              "\n",
              "    .dataframe thead th {\n",
              "        text-align: right;\n",
              "    }\n",
              "</style>\n",
              "<table border=\"1\" class=\"dataframe\">\n",
              "  <thead>\n",
              "    <tr style=\"text-align: right;\">\n",
              "      <th></th>\n",
              "      <th>id</th>\n",
              "      <th>gender</th>\n",
              "      <th>age</th>\n",
              "      <th>hypertension</th>\n",
              "      <th>heart_disease</th>\n",
              "      <th>ever_married</th>\n",
              "      <th>work_type</th>\n",
              "      <th>Residence_type</th>\n",
              "      <th>avg_glucose_level</th>\n",
              "      <th>bmi</th>\n",
              "      <th>smoking_status</th>\n",
              "      <th>stroke</th>\n",
              "    </tr>\n",
              "  </thead>\n",
              "  <tbody>\n",
              "    <tr>\n",
              "      <th>0</th>\n",
              "      <td>9046</td>\n",
              "      <td>Male</td>\n",
              "      <td>67.0</td>\n",
              "      <td>0</td>\n",
              "      <td>1</td>\n",
              "      <td>Yes</td>\n",
              "      <td>Private</td>\n",
              "      <td>Urban</td>\n",
              "      <td>228.69</td>\n",
              "      <td>36.6</td>\n",
              "      <td>formerly smoked</td>\n",
              "      <td>1</td>\n",
              "    </tr>\n",
              "    <tr>\n",
              "      <th>1</th>\n",
              "      <td>51676</td>\n",
              "      <td>Female</td>\n",
              "      <td>61.0</td>\n",
              "      <td>0</td>\n",
              "      <td>0</td>\n",
              "      <td>Yes</td>\n",
              "      <td>Self-employed</td>\n",
              "      <td>Rural</td>\n",
              "      <td>202.21</td>\n",
              "      <td>NaN</td>\n",
              "      <td>never smoked</td>\n",
              "      <td>1</td>\n",
              "    </tr>\n",
              "    <tr>\n",
              "      <th>2</th>\n",
              "      <td>31112</td>\n",
              "      <td>Male</td>\n",
              "      <td>80.0</td>\n",
              "      <td>0</td>\n",
              "      <td>1</td>\n",
              "      <td>Yes</td>\n",
              "      <td>Private</td>\n",
              "      <td>Rural</td>\n",
              "      <td>105.92</td>\n",
              "      <td>32.5</td>\n",
              "      <td>never smoked</td>\n",
              "      <td>1</td>\n",
              "    </tr>\n",
              "    <tr>\n",
              "      <th>3</th>\n",
              "      <td>60182</td>\n",
              "      <td>Female</td>\n",
              "      <td>49.0</td>\n",
              "      <td>0</td>\n",
              "      <td>0</td>\n",
              "      <td>Yes</td>\n",
              "      <td>Private</td>\n",
              "      <td>Urban</td>\n",
              "      <td>171.23</td>\n",
              "      <td>34.4</td>\n",
              "      <td>smokes</td>\n",
              "      <td>1</td>\n",
              "    </tr>\n",
              "    <tr>\n",
              "      <th>4</th>\n",
              "      <td>1665</td>\n",
              "      <td>Female</td>\n",
              "      <td>79.0</td>\n",
              "      <td>1</td>\n",
              "      <td>0</td>\n",
              "      <td>Yes</td>\n",
              "      <td>Self-employed</td>\n",
              "      <td>Rural</td>\n",
              "      <td>174.12</td>\n",
              "      <td>24.0</td>\n",
              "      <td>never smoked</td>\n",
              "      <td>1</td>\n",
              "    </tr>\n",
              "  </tbody>\n",
              "</table>\n",
              "</div>"
            ],
            "text/plain": [
              "      id  gender   age  ...   bmi   smoking_status stroke\n",
              "0   9046    Male  67.0  ...  36.6  formerly smoked      1\n",
              "1  51676  Female  61.0  ...   NaN     never smoked      1\n",
              "2  31112    Male  80.0  ...  32.5     never smoked      1\n",
              "3  60182  Female  49.0  ...  34.4           smokes      1\n",
              "4   1665  Female  79.0  ...  24.0     never smoked      1\n",
              "\n",
              "[5 rows x 12 columns]"
            ]
          },
          "metadata": {
            "tags": []
          },
          "execution_count": 4
        }
      ]
    },
    {
      "cell_type": "code",
      "metadata": {
        "id": "wEGtsIrMdIlH"
      },
      "source": [
        "cleanup_nums = {\"gender\":     {\"Male\": 0, \"Female\": 1, \"Other\":2},\n",
        "                \"work_type\": {'Private': 0, 'Self-employed': 1, 'Govt_job':2, 'children':3, 'Never_worked':4},\n",
        "                \"Residence_type\":{'Urban': 0, 'Rural': 1},\n",
        "                \"smoking_status\": {'formerly smoked': 0, 'never smoked': 1, 'smokes':2, 'Unknown':3},\n",
        "              \"ever_married\":{'No': 0, 'Yes': 1} }"
      ],
      "execution_count": 5,
      "outputs": []
    },
    {
      "cell_type": "code",
      "metadata": {
        "id": "jwZFt53ddaVn"
      },
      "source": [
        "df=df.replace(cleanup_nums)\n"
      ],
      "execution_count": 6,
      "outputs": []
    },
    {
      "cell_type": "code",
      "metadata": {
        "id": "rDkpkq0Hdczf"
      },
      "source": [
        "df.dropna(how='any',inplace=True)"
      ],
      "execution_count": 10,
      "outputs": []
    },
    {
      "cell_type": "code",
      "metadata": {
        "colab": {
          "base_uri": "https://localhost:8080/"
        },
        "id": "9TrfJhEMegs7",
        "outputId": "8ba8119b-b8fc-48a7-ed80-7577b771eda4"
      },
      "source": [
        "X=df[df.columns[1:-1]]\n",
        "print(X.head(2))\n",
        "y=df[df.columns[-1]]\n",
        "print(y.head(2))"
      ],
      "execution_count": 19,
      "outputs": [
        {
          "output_type": "stream",
          "text": [
            "   gender   age  hypertension  ...  avg_glucose_level   bmi  smoking_status\n",
            "0       0  67.0             0  ...             228.69  36.6               0\n",
            "2       0  80.0             0  ...             105.92  32.5               1\n",
            "\n",
            "[2 rows x 10 columns]\n",
            "0    1\n",
            "2    1\n",
            "Name: stroke, dtype: int64\n"
          ],
          "name": "stdout"
        }
      ]
    },
    {
      "cell_type": "code",
      "metadata": {
        "id": "bIykAX-1dfsC"
      },
      "source": [
        "from sklearn.model_selection import train_test_split\n",
        "from sklearn.ensemble import RandomForestRegressor\n",
        "from sklearn.metrics import accuracy_score\n",
        "\n",
        "X_train, X_test, y_train, y_test = train_test_split(X, y, train_size=0.75)\n",
        "reg = RandomForestRegressor(n_estimators=200, min_samples_leaf=2).fit(X_train,y_train)"
      ],
      "execution_count": 31,
      "outputs": []
    },
    {
      "cell_type": "code",
      "metadata": {
        "id": "aAvaBsExeJWu"
      },
      "source": [
        "predict_df = pd.DataFrame(data={'y_pred':reg.predict(X_test),'y_actual':y_test}, index=X_test.index)"
      ],
      "execution_count": 39,
      "outputs": []
    },
    {
      "cell_type": "code",
      "metadata": {
        "colab": {
          "base_uri": "https://localhost:8080/",
          "height": 204
        },
        "id": "vKEDnymrfyVd",
        "outputId": "3ad5451d-5053-4ebf-edcb-55e657ede279"
      },
      "source": [
        "predict_df.head()"
      ],
      "execution_count": 40,
      "outputs": [
        {
          "output_type": "execute_result",
          "data": {
            "text/html": [
              "<div>\n",
              "<style scoped>\n",
              "    .dataframe tbody tr th:only-of-type {\n",
              "        vertical-align: middle;\n",
              "    }\n",
              "\n",
              "    .dataframe tbody tr th {\n",
              "        vertical-align: top;\n",
              "    }\n",
              "\n",
              "    .dataframe thead th {\n",
              "        text-align: right;\n",
              "    }\n",
              "</style>\n",
              "<table border=\"1\" class=\"dataframe\">\n",
              "  <thead>\n",
              "    <tr style=\"text-align: right;\">\n",
              "      <th></th>\n",
              "      <th>y_pred</th>\n",
              "      <th>y_actual</th>\n",
              "    </tr>\n",
              "  </thead>\n",
              "  <tbody>\n",
              "    <tr>\n",
              "      <th>4363</th>\n",
              "      <td>0.000000</td>\n",
              "      <td>0</td>\n",
              "    </tr>\n",
              "    <tr>\n",
              "      <th>2130</th>\n",
              "      <td>0.033726</td>\n",
              "      <td>0</td>\n",
              "    </tr>\n",
              "    <tr>\n",
              "      <th>3575</th>\n",
              "      <td>0.000000</td>\n",
              "      <td>0</td>\n",
              "    </tr>\n",
              "    <tr>\n",
              "      <th>1481</th>\n",
              "      <td>0.002500</td>\n",
              "      <td>0</td>\n",
              "    </tr>\n",
              "    <tr>\n",
              "      <th>4590</th>\n",
              "      <td>0.192369</td>\n",
              "      <td>0</td>\n",
              "    </tr>\n",
              "  </tbody>\n",
              "</table>\n",
              "</div>"
            ],
            "text/plain": [
              "        y_pred  y_actual\n",
              "4363  0.000000         0\n",
              "2130  0.033726         0\n",
              "3575  0.000000         0\n",
              "1481  0.002500         0\n",
              "4590  0.192369         0"
            ]
          },
          "metadata": {
            "tags": []
          },
          "execution_count": 40
        }
      ]
    },
    {
      "cell_type": "code",
      "metadata": {
        "colab": {
          "base_uri": "https://localhost:8080/"
        },
        "id": "9ppHrI8RimhI",
        "outputId": "1962041a-0891-445f-b8f9-7d4115265e63"
      },
      "source": [
        "accuracy_score(round(predict_df.y_pred), predict_df.y_actual)"
      ],
      "execution_count": 42,
      "outputs": [
        {
          "output_type": "execute_result",
          "data": {
            "text/plain": [
              "0.9560260586319218"
            ]
          },
          "metadata": {
            "tags": []
          },
          "execution_count": 42
        }
      ]
    },
    {
      "cell_type": "markdown",
      "metadata": {
        "id": "XRUsY-OeiIjz"
      },
      "source": [
        "##### Let’s discover and use Shapash SmartExplainer."
      ]
    },
    {
      "cell_type": "code",
      "metadata": {
        "id": "M61br3VPiLQK"
      },
      "source": [
        "from shapash.explainer.smart_explainer import SmartExplainer"
      ],
      "execution_count": 43,
      "outputs": []
    },
    {
      "cell_type": "code",
      "metadata": {
        "id": "PcMAGXt7iPIH"
      },
      "source": [
        "xpl = SmartExplainer()"
      ],
      "execution_count": 58,
      "outputs": []
    },
    {
      "cell_type": "code",
      "metadata": {
        "colab": {
          "base_uri": "https://localhost:8080/"
        },
        "id": "cOtbdspCqkLu",
        "outputId": "02eb3e28-feae-40de-d4b5-8ae0f95be4a6"
      },
      "source": [
        "xpl.compile(x=X_test,model=reg)"
      ],
      "execution_count": 59,
      "outputs": [
        {
          "output_type": "stream",
          "text": [
            "Backend: Shap TreeExplainer\n"
          ],
          "name": "stdout"
        }
      ]
    },
    {
      "cell_type": "code",
      "metadata": {
        "id": "s9OezdkjpG-z"
      },
      "source": [
        "xpl.to_pandas()"
      ],
      "execution_count": null,
      "outputs": []
    },
    {
      "cell_type": "code",
      "metadata": {
        "id": "zi_W3qUwrazr"
      },
      "source": [
        ""
      ],
      "execution_count": null,
      "outputs": []
    },
    {
      "cell_type": "code",
      "metadata": {
        "colab": {
          "base_uri": "https://localhost:8080/"
        },
        "id": "dYcoRoYSra-T",
        "outputId": "dfc305ca-861c-4e77-81d2-90abcce4f69e"
      },
      "source": [
        "xpl.run_app(title_story='stroke_dataset')"
      ],
      "execution_count": 60,
      "outputs": [
        {
          "output_type": "stream",
          "text": [
            "Dash is running on http://0.0.0.0:8050/\n",
            "\n"
          ],
          "name": "stdout"
        },
        {
          "output_type": "stream",
          "text": [
            "/usr/local/lib/python3.7/dist-packages/pandas/core/frame.py:1490: FutureWarning:\n",
            "\n",
            "Using short name for 'orient' is deprecated. Only the options: ('dict', list, 'series', 'split', 'records', 'index') will be used in a future version. Use one of the above to silence this warning.\n",
            "\n",
            "INFO:root:Your Shapash application run on http://91f820c4cd2b:8050/\n",
            "INFO:root:Use the method .kill() to down your app.\n"
          ],
          "name": "stderr"
        },
        {
          "output_type": "execute_result",
          "data": {
            "text/plain": [
              "<CustomThread(Thread-11, started 140302274103040)>"
            ]
          },
          "metadata": {
            "tags": []
          },
          "execution_count": 60
        },
        {
          "output_type": "stream",
          "text": [
            "INFO:shapash.webapp.smart_app:Dash is running on http://0.0.0.0:8050/\n",
            "\n"
          ],
          "name": "stderr"
        },
        {
          "output_type": "stream",
          "text": [
            " * Serving Flask app \"shapash.webapp.smart_app\" (lazy loading)\n",
            " * Environment: production\n",
            "\u001b[31m   WARNING: This is a development server. Do not use it in a production deployment.\u001b[0m\n",
            "\u001b[2m   Use a production WSGI server instead.\u001b[0m\n",
            " * Debug mode: off\n"
          ],
          "name": "stdout"
        },
        {
          "output_type": "stream",
          "text": [
            "INFO:werkzeug: * Running on http://0.0.0.0:8050/ (Press CTRL+C to quit)\n"
          ],
          "name": "stderr"
        }
      ]
    },
    {
      "cell_type": "code",
      "metadata": {
        "colab": {
          "base_uri": "https://localhost:8080/",
          "height": 517
        },
        "id": "hOrFt7XFrt28",
        "outputId": "4da47c20-18ea-4023-c80c-4877b33e6489"
      },
      "source": [
        "xpl.plot.features_importance()"
      ],
      "execution_count": 61,
      "outputs": [
        {
          "output_type": "display_data",
          "data": {
            "text/html": [
              "<html>\n",
              "<head><meta charset=\"utf-8\" /></head>\n",
              "<body>\n",
              "    <div>            <script src=\"https://cdnjs.cloudflare.com/ajax/libs/mathjax/2.7.5/MathJax.js?config=TeX-AMS-MML_SVG\"></script><script type=\"text/javascript\">if (window.MathJax) {MathJax.Hub.Config({SVG: {font: \"STIX-Web\"}});}</script>                <script type=\"text/javascript\">window.PlotlyConfig = {MathJaxConfig: 'local'};</script>\n",
              "        <script src=\"https://cdn.plot.ly/plotly-latest.min.js\"></script>                <div id=\"96c6cdf1-c75b-4372-a5ea-3e5f55d3b524\" class=\"plotly-graph-div\" style=\"height:500px; width:900px;\"></div>            <script type=\"text/javascript\">                                    window.PLOTLYENV=window.PLOTLYENV || {};                                    if (document.getElementById(\"96c6cdf1-c75b-4372-a5ea-3e5f55d3b524\")) {                    Plotly.newPlot(                        \"96c6cdf1-c75b-4372-a5ea-3e5f55d3b524\",                        [{\"marker\": {\"color\": \"rgba(244, 192, 0, 1.0)\", \"line\": {\"color\": \"rgba(52, 55, 54, 0.8)\", \"width\": 0.5}}, \"name\": \"Global\", \"orientation\": \"h\", \"type\": \"bar\", \"x\": [0.0118, 0.0135, 0.0304, 0.0388, 0.0437, 0.0534, 0.0536, 0.0995, 0.1776, 0.4778], \"y\": [\"Residence_type\", \"gender\", \"heart_disease\", \"smoking_status\", \"work_type\", \"ever_married\", \"hypertension\", \"bmi\", \"avg_glucose_level\", \"age\"]}],                        {\"autosize\": false, \"barmode\": \"group\", \"height\": 500, \"hovermode\": \"closest\", \"margin\": {\"b\": 50, \"l\": 160, \"r\": 0, \"t\": 80}, \"template\": {\"data\": {\"scatter\": [{\"type\": \"scatter\"}]}}, \"title\": {\"font\": {\"color\": \"rgb(50, 50, 50)\", \"family\": \"Arial\", \"size\": 24}, \"text\": \"Features Importance\", \"x\": 0.5, \"xanchor\": \"center\", \"y\": 0.9, \"yanchor\": \"middle\"}, \"width\": 900, \"xaxis\": {\"automargin\": true, \"title\": {\"font\": {\"color\": \"rgb(50, 50, 50)\", \"family\": \"Arial Black\", \"size\": 16}, \"text\": \"Contribution\"}}, \"yaxis\": {\"automargin\": true, \"title\": {\"font\": {\"color\": \"rgb(50, 50, 50)\", \"family\": \"Arial Black\", \"size\": 16}}}},                        {\"responsive\": true}                    ).then(function(){\n",
              "                            \n",
              "var gd = document.getElementById('96c6cdf1-c75b-4372-a5ea-3e5f55d3b524');\n",
              "var x = new MutationObserver(function (mutations, observer) {{\n",
              "        var display = window.getComputedStyle(gd).display;\n",
              "        if (!display || display === 'none') {{\n",
              "            console.log([gd, 'removed!']);\n",
              "            Plotly.purge(gd);\n",
              "            observer.disconnect();\n",
              "        }}\n",
              "}});\n",
              "\n",
              "// Listen for the removal of the full notebook cells\n",
              "var notebookContainer = gd.closest('#notebook-container');\n",
              "if (notebookContainer) {{\n",
              "    x.observe(notebookContainer, {childList: true});\n",
              "}}\n",
              "\n",
              "// Listen for the clearing of the current output cell\n",
              "var outputEl = gd.closest('.output');\n",
              "if (outputEl) {{\n",
              "    x.observe(outputEl, {childList: true});\n",
              "}}\n",
              "\n",
              "                        })                };                            </script>        </div>\n",
              "</body>\n",
              "</html>"
            ]
          },
          "metadata": {
            "tags": []
          }
        }
      ]
    },
    {
      "cell_type": "code",
      "metadata": {
        "colab": {
          "base_uri": "https://localhost:8080/",
          "height": 617
        },
        "id": "jYbe1arItOrW",
        "outputId": "c3dbe9d4-8140-4f1e-d26e-d4fc5c23006d"
      },
      "source": [
        "xpl.plot.contribution_plot(\"age\")"
      ],
      "execution_count": 67,
      "outputs": [
        {
          "output_type": "display_data",
          "data": {
            "text/html": [
              "<html>\n",
              "<head><meta charset=\"utf-8\" /></head>\n",
              "<body>\n",
              "    <div>            <script src=\"https://cdnjs.cloudflare.com/ajax/libs/mathjax/2.7.5/MathJax.js?config=TeX-AMS-MML_SVG\"></script><script type=\"text/javascript\">if (window.MathJax) {MathJax.Hub.Config({SVG: {font: \"STIX-Web\"}});}</script>                <script type=\"text/javascript\">window.PlotlyConfig = {MathJaxConfig: 'local'};</script>\n",
              "        <script src=\"https://cdn.plot.ly/plotly-latest.min.js\"></script>                <div id=\"8a08fcb7-c80b-4a20-85ea-e8dd234eb834\" class=\"plotly-graph-div\" style=\"height:600px; width:900px;\"></div>            <script type=\"text/javascript\">                                    window.PLOTLYENV=window.PLOTLYENV || {};                                    if (document.getElementById(\"8a08fcb7-c80b-4a20-85ea-e8dd234eb834\")) {                    Plotly.newPlot(                        \"8a08fcb7-c80b-4a20-85ea-e8dd234eb834\",                        [{\"customdata\": [4363, 2130, 3575, 1481, 4590, 1273, 2700, 4156, 191, 1432, 1185, 3568, 4899, 3607, 5045, 950, 3643, 3587, 4549, 2252, 259, 558, 3157, 1450, 3711, 33, 271, 1687, 1281, 1922, 3277, 591, 2718, 716, 1456, 3106, 3448, 1567, 678, 2017, 4116, 1192, 4931, 4758, 1842, 5088, 1126, 1125, 493, 2684, 2597, 122, 4298, 4759, 3518, 2074, 4475, 3430, 850, 653, 779, 457, 2240, 3941, 4742, 3011, 559, 1760, 4517, 4559, 1778, 2428, 679, 3871, 2399, 394, 75, 1891, 5067, 101, 1250, 1078, 4798, 1181, 4736, 4346, 4951, 1482, 4975, 1350, 2719, 2406, 3783, 1848, 2006, 5043, 2165, 3372, 3311, 3524, 450, 1868, 4191, 999, 4128, 428, 4416, 4696, 3397, 47, 4936, 4389, 4141, 186, 618, 5040, 4467, 4261, 2827, 4395, 3131, 1874, 1001, 5061, 1004, 2737, 2540, 3980, 824, 4711, 3393, 3812, 645, 2826, 920, 2999, 519, 2823, 3795, 2615, 396, 308, 1830, 3553, 2139, 4874, 4755, 192, 3295, 2013, 1538, 2952, 3098, 444, 649, 4438, 1196, 3109, 2431, 2535, 1043, 3865, 1592, 696, 2651, 4051, 550, 3150, 856, 4535, 3324, 1653, 3656, 1383, 2429, 1473, 4785, 1838, 435, 4460, 1777, 3730, 2754, 998, 1587, 1445, 4145, 796, 4751, 730, 4057, 2279, 5090, 1335, 3646, 4642, 1543, 1310, 1129, 3704, 786, 2118, 4945, 6, 4544, 2475, 1825, 3237, 1726, 737, 4672, 4382, 3413, 490, 2809, 2691, 4595, 4720, 1689, 3366, 1807, 1633, 2359, 1799, 1573, 3228, 213, 3133, 4989, 626, 3405, 711, 417, 4306, 3735, 3583, 669, 1884, 2789, 4440, 723, 1378, 4316, 2492, 414, 274, 3344, 877, 3953, 3753, 2958, 2910, 1136, 1763, 2259, 2456, 721, 2395, 1107, 4774, 2613, 5089, 2791, 483, 430, 1314, 1593, 2203, 4997, 4330, 939, 1792, 677, 3762, 4393, 1549, 2674, 468, 3904, 4458, 1666, 3702, 1918, 675, 215, 639, 3013, 4030, 564, 2749, 2361, 136, 2898, 1377, 2642, 4578, 3105, 1603, 1526, 1304, 106, 3686, 3631, 2526, 100, 237, 4185, 1225, 1167, 674, 177, 4329, 3766, 813, 2670, 1483, 1410, 3289, 1311, 1291, 2814, 4412, 3414, 1028, 403, 901, 3326, 4282, 3614, 4322, 897, 1844, 3308, 1155, 2844, 1487, 4328, 1305, 1441, 3195, 2072, 1158, 651, 1813, 4259, 2903, 2199, 4199, 2695, 3055, 3168, 504, 1773, 1692, 3292, 890, 1071, 3090, 1015, 3592, 2153, 389, 1943, 3934, 709, 3896, 5029, 4988, 4133, 1880, 2028, 1161, 2437, 515, 2569, 2806, 4303, 2678, 31, 1720, 2720, 4098, 3780, 1637, 4895, 1203, 2776, 3038, 4250, 876, 3362, 4015, 3560, 2378, 2355, 3990, 555, 4077, 4352, 4044, 3695, 4432, 2196, 800, 1408, 4459, 3404, 3533, 3747, 3874, 3354, 2216, 841, 1154, 1714, 1329, 1204, 4822, 886, 4148, 2182, 1506, 4504, 1346, 755, 1890, 3044, 4183, 1087, 4344, 869, 4860, 1983, 1220, 505, 3657, 4765, 4533, 2985, 818, 518, 4302, 469, 18, 4691, 204, 3421, 56, 631, 5005, 1405, 3395, 1063, 2750, 952, 1295, 3598, 2682, 3696, 4107, 4918, 3353, 717, 4940, 995, 3746, 2871, 1788, 1614, 3527, 1525, 3538, 3386, 335, 3224, 3045, 63, 4754, 3275, 2919, 3100, 1625, 3510, 4708, 2077, 2451, 780, 3685, 407, 860, 3175, 572, 2509, 4358, 3890, 3555, 1954, 3239, 2974, 481, 3540, 3653, 2149, 2029, 4317, 2736, 3600, 2782, 4201, 1901, 927, 511, 45, 4484, 3830, 3017, 3279, 1949, 784, 1257, 393, 4806, 340, 1850, 3846, 359, 1271, 2347, 311, 4192, 2283, 5026, 2558, 4159, 2659, 3962, 843, 463, 2366, 3680, 3188, 1395, 1571, 4832, 4641, 1964, 4565, 2916, 3610, 1016, 4384, 411, 2665, 3443, 1056, 4579, 507, 2478, 1048, 3342, 4478, 1580, 4154, 2358, 769, 908, 4172, 670, 4262, 1936, 2628, 3773, 3222, 2705, 4095, 2115, 1294, 3165, 1775, 3461, 2193, 4494, 89, 632, 2479, 82, 3437, 498, 3031, 2875, 740, 429, 1331, 3801, 1328, 592, 1955, 951, 2132, 3645, 4851, 1859, 4082, 3748, 1283, 4980, 5020, 3604, 365, 5004, 1970, 3078, 2794, 2498, 4304, 2112, 1039, 2274, 2931, 4514, 1275, 2264, 4662, 3731, 9, 4943, 1096, 1818, 1639, 2856, 2604, 38, 3115, 2317, 4266, 3316, 270, 1228, 5028, 2787, 3212, 4666, 3313, 1975, 2261, 254, 62, 1784, 255, 1783, 1176, 303, 4973, 1958, 892, 2971, 1023, 2394, 1840, 2266, 3014, 4709, 1804, 3647, 842, 4831, 1761, 4553, 4327, 1075, 4005, 4041, 1815, 1446, 3225, 1020, 4348, 2734, 646, 1243, 4433, 1517, 3071, 2663, 3191, 2430, 4343, 1948, 2508, 1665, 3714, 1416, 1497, 4894, 2226, 241, 1122, 3267, 5101, 4267, 2344, 3626, 439, 974, 2596, 4891, 4819, 2618, 4125, 4838, 415, 3784, 3444, 3718, 1341, 506, 797, 4788, 233, 1952, 691, 509, 2537, 4998, 3986, 4836, 663, 3907, 1492, 1264, 2536, 828, 216, 2645, 2761, 861, 2, 979, 2018, 4151, 4668, 3171, 4063, 3246, 1299, 3596, 4119, 3971, 2044, 2250, 35, 514, 3025, 3619, 2334, 298, 2605, 1384, 3229, 3021, 4509, 266, 3673, 1702, 3419, 2108, 368, 4753, 2544, 1407, 4123, 1569, 1207, 3886, 3796, 3581, 4400, 3139, 3207, 4817, 4715, 209, 822, 4314, 4609, 2352, 1674, 3881, 4824, 2225, 1977, 1485, 1710, 3274, 684, 1768, 1623, 1873, 846, 4818, 4333, 405, 3317, 3910, 1164, 4892, 4470, 2346, 644, 4935, 4775, 1050, 1137, 4833, 3398, 977, 3424, 2591, 135, 4812, 727, 2442, 4292, 1037, 1504, 3385, 361, 1008, 1474, 488, 4297, 1182, 888, 244, 321, 1451, 1308, 2210, 4718, 4618, 4623, 2990, 2440, 3623, 606, 4908, 4821, 3550, 2449, 3593, 748, 2921, 4865, 2292, 3416, 3649, 2247, 3710, 88, 4029, 3451, 3603, 2863, 4499, 1406, 3969, 4319, 2829, 2563, 3763, 4645, 3012, 1690, 1240, 4738, 2934, 109, 52, 584, 3877, 3388, 3848, 1759, 2002, 3189, 164, 1084, 3519, 4773, 3609, 4810, 4187, 2549, 2723, 4734, 1348, 2505, 3869, 943, 3373, 1928, 687, 1052, 1234, 4097, 3453, 2388, 1833, 910, 3315, 4205, 331, 682, 3296, 2813, 1026, 4924, 344, 725, 734, 924, 1201, 4289, 4408, 3926, 2052, 1289, 353, 708, 4114, 2929, 2600, 3086, 2154, 5051, 264, 4373, 3509, 996, 1835, 4875, 582, 1585, 3956, 1794, 1510, 5013, 3898, 1454, 4383, 1093, 1147, 1615, 4705, 2085, 1244, 2049, 4739, 4710, 3617, 4856, 659, 4979, 3832, 3160, 3210, 2745, 21, 1626, 3825, 3658, 4823, 1515, 4136, 4534, 4536, 775, 4066, 1376, 2403, 2093, 3974, 422, 1098, 3932, 2167, 2534, 214, 2181, 2047, 5085, 565, 1489, 660, 1404, 2486, 341, 3858, 1467, 249, 3091, 4766, 4294, 3813, 2622, 293, 4842, 5058, 2699, 1841, 4939, 2777, 4473, 262, 392, 3203, 569, 531, 904, 3147, 2833, 4265, 165, 384, 2704, 624, 2031, 1736, 1672, 3844, 1522, 1606, 3800, 1667, 3839, 3400, 2977, 1886, 3991, 3771, 2034, 2032, 1508, 2370, 2632, 1392, 641, 3818, 300, 3269, 5082, 1961, 3347, 1134, 4521, 169, 2501, 2819, 3911, 4160, 732, 3522, 2435, 4501, 1896, 2422, 3840, 3999, 1247, 1956, 4665, 1429, 2116, 327, 3897, 3756, 2561, 4488, 3764, 68, 3463, 3254, 2630, 1307, 1939, 667, 2441, 3037, 2609, 3384, 1390, 3804, 1822, 1368, 157, 4424, 2506, 2025, 3987, 60, 3023, 2664, 2470, 527, 902, 397, 2357, 4120, 2530, 2076, 181, 4621, 1209, 3843, 844, 1259, 3985, 973, 267, 1472, 3563, 3378, 4350, 714, 3092, 2698, 4717, 3083, 1598, 4885, 86, 1934, 2993, 712, 2862, 3679, 4443, 3611, 1855, 835, 1946, 1119, 4816, 5007, 1359, 3064, 2421, 3101, 385, 3666, 664, 2425, 1389, 3001, 1491, 4724, 1493, 4258, 1420, 346, 5041, 2289, 3799, 2364, 906, 3903, 3401, 465, 1440, 3957, 4237, 3543, 1982, 3205, 2299, 2963, 2900, 2981, 116, 1691, 4090, 4137, 4012, 4620, 10, 923, 1875, 661, 382, 741, 1381, 4476, 97, 3253, 3409, 4840, 349, 2194, 79, 2081, 5012, 4797, 4423, 4217, 4131, 4203, 3652, 1200, 207, 1654, 1703, 658, 1857, 692, 2310, 2257, 4647, 1682, 4540, 2342, 1965, 4793, 961, 4070, 1521, 4904, 3931, 4138], \"hovertemplate\": \"<b>%{hovertext}</b><br />age : %{x}<br />Contribution: %{y:.4f}<extra></extra>\", \"hovertext\": [\"Id: 4363<br />Predict: 0.0\", \"Id: 2130<br />Predict: 0.0337\", \"Id: 3575<br />Predict: 0.0\", \"Id: 1481<br />Predict: 0.0025\", \"Id: 4590<br />Predict: 0.1924\", \"Id: 1273<br />Predict: 0.0425\", \"Id: 2700<br />Predict: 0.0298\", \"Id: 4156<br />Predict: 0.0\", \"Id: 191<br />Predict: 0.0401\", \"Id: 1432<br />Predict: 0.0\", \"Id: 1185<br />Predict: 0.0\", \"Id: 3568<br />Predict: 0.0154\", \"Id: 4899<br />Predict: 0.1238\", \"Id: 3607<br />Predict: 0.0352\", \"Id: 5045<br />Predict: 0.0\", \"Id: 950<br />Predict: 0.2319\", \"Id: 3643<br />Predict: 0.1866\", \"Id: 3587<br />Predict: 0.1665\", \"Id: 4549<br />Predict: 0.0\", \"Id: 2252<br />Predict: 0.005\", \"Id: 259<br />Predict: 0.0821\", \"Id: 558<br />Predict: 0.0\", \"Id: 3157<br />Predict: 0.2998\", \"Id: 1450<br />Predict: 0.0\", \"Id: 3711<br />Predict: 0.1637\", \"Id: 33<br />Predict: 0.1525\", \"Id: 271<br />Predict: 0.1981\", \"Id: 1687<br />Predict: 0.0\", \"Id: 1281<br />Predict: 0.0\", \"Id: 1922<br />Predict: 0.005\", \"Id: 3277<br />Predict: 0.0234\", \"Id: 591<br />Predict: 0.0067\", \"Id: 2718<br />Predict: 0.0443\", \"Id: 716<br />Predict: 0.0036\", \"Id: 1456<br />Predict: 0.0223\", \"Id: 3106<br />Predict: 0.0\", \"Id: 3448<br />Predict: 0.0217\", \"Id: 1567<br />Predict: 0.0029\", \"Id: 678<br />Predict: 0.0\", \"Id: 2017<br />Predict: 0.0308\", \"Id: 4116<br />Predict: 0.001\", \"Id: 1192<br />Predict: 0.0\", \"Id: 4931<br />Predict: 0.0223\", \"Id: 4758<br />Predict: 0.0\", \"Id: 1842<br />Predict: 0.1218\", \"Id: 5088<br />Predict: 0.066\", \"Id: 1126<br />Predict: 0.0386\", \"Id: 1125<br />Predict: 0.0801\", \"Id: 493<br />Predict: 0.0\", \"Id: 2684<br />Predict: 0.0172\", \"Id: 2597<br />Predict: 0.0\", \"Id: 122<br />Predict: 0.3268\", \"Id: 4298<br />Predict: 0.0\", \"Id: 4759<br />Predict: 0.1076\", \"Id: 3518<br />Predict: 0.0\", \"Id: 2074<br />Predict: 0.0\", \"Id: 4475<br />Predict: 0.1372\", \"Id: 3430<br />Predict: 0.0\", \"Id: 850<br />Predict: 0.0\", \"Id: 653<br />Predict: 0.1902\", \"Id: 779<br />Predict: 0.0\", \"Id: 457<br />Predict: 0.0037\", \"Id: 2240<br />Predict: 0.0017\", \"Id: 3941<br />Predict: 0.0025\", \"Id: 4742<br />Predict: 0.0058\", \"Id: 3011<br />Predict: 0.0296\", \"Id: 559<br />Predict: 0.0453\", \"Id: 1760<br />Predict: 0.0104\", \"Id: 4517<br />Predict: 0.0\", \"Id: 4559<br />Predict: 0.1441\", \"Id: 1778<br />Predict: 0.1587\", \"Id: 2428<br />Predict: 0.065\", \"Id: 679<br />Predict: 0.0\", \"Id: 3871<br />Predict: 0.0083\", \"Id: 2399<br />Predict: 0.0\", \"Id: 394<br />Predict: 0.0\", \"Id: 75<br />Predict: 0.1358\", \"Id: 1891<br />Predict: 0.0117\", \"Id: 5067<br />Predict: 0.0\", \"Id: 101<br />Predict: 0.1928\", \"Id: 1250<br />Predict: 0.306\", \"Id: 1078<br />Predict: 0.0\", \"Id: 4798<br />Predict: 0.0\", \"Id: 1181<br />Predict: 0.0037\", \"Id: 4736<br />Predict: 0.0\", \"Id: 4346<br />Predict: 0.0\", \"Id: 4951<br />Predict: 0.0\", \"Id: 1482<br />Predict: 0.0\", \"Id: 4975<br />Predict: 0.0013\", \"Id: 1350<br />Predict: 0.1159\", \"Id: 2719<br />Predict: 0.0644\", \"Id: 2406<br />Predict: 0.0147\", \"Id: 3783<br />Predict: 0.0944\", \"Id: 1848<br />Predict: 0.0\", \"Id: 2006<br />Predict: 0.0\", \"Id: 5043<br />Predict: 0.051\", \"Id: 2165<br />Predict: 0.0\", \"Id: 3372<br />Predict: 0.1125\", \"Id: 3311<br />Predict: 0.0\", \"Id: 3524<br />Predict: 0.0058\", \"Id: 450<br />Predict: 0.0567\", \"Id: 1868<br />Predict: 0.0\", \"Id: 4191<br />Predict: 0.0\", \"Id: 999<br />Predict: 0.0\", \"Id: 4128<br />Predict: 0.0\", \"Id: 428<br />Predict: 0.0017\", \"Id: 4416<br />Predict: 0.0\", \"Id: 4696<br />Predict: 0.1735\", \"Id: 3397<br />Predict: 0.0\", \"Id: 47<br />Predict: 0.0042\", \"Id: 4936<br />Predict: 0.0\", \"Id: 4389<br />Predict: 0.0\", \"Id: 4141<br />Predict: 0.0715\", \"Id: 186<br />Predict: 0.1012\", \"Id: 618<br />Predict: 0.0499\", \"Id: 5040<br />Predict: 0.0\", \"Id: 4467<br />Predict: 0.0277\", \"Id: 4261<br />Predict: 0.0\", \"Id: 2827<br />Predict: 0.0\", \"Id: 4395<br />Predict: 0.0421\", \"Id: 3131<br />Predict: 0.0\", \"Id: 1874<br />Predict: 0.0017\", \"Id: 1001<br />Predict: 0.0\", \"Id: 5061<br />Predict: 0.0063\", \"Id: 1004<br />Predict: 0.0127\", \"Id: 2737<br />Predict: 0.1433\", \"Id: 2540<br />Predict: 0.0584\", \"Id: 3980<br />Predict: 0.0445\", \"Id: 824<br />Predict: 0.0033\", \"Id: 4711<br />Predict: 0.1352\", \"Id: 3393<br />Predict: 0.2758\", \"Id: 3812<br />Predict: 0.0\", \"Id: 645<br />Predict: 0.0242\", \"Id: 2826<br />Predict: 0.08\", \"Id: 920<br />Predict: 0.0\", \"Id: 2999<br />Predict: 0.0\", \"Id: 519<br />Predict: 0.0\", \"Id: 2823<br />Predict: 0.1977\", \"Id: 3795<br />Predict: 0.0025\", \"Id: 2615<br />Predict: 0.0\", \"Id: 396<br />Predict: 0.0803\", \"Id: 308<br />Predict: 0.0\", \"Id: 1830<br />Predict: 0.153\", \"Id: 3553<br />Predict: 0.0153\", \"Id: 2139<br />Predict: 0.0025\", \"Id: 4874<br />Predict: 0.0\", \"Id: 4755<br />Predict: 0.0115\", \"Id: 192<br />Predict: 0.005\", \"Id: 3295<br />Predict: 0.0\", \"Id: 2013<br />Predict: 0.0\", \"Id: 1538<br />Predict: 0.0\", \"Id: 2952<br />Predict: 0.0\", \"Id: 3098<br />Predict: 0.0072\", \"Id: 444<br />Predict: 0.1807\", \"Id: 649<br />Predict: 0.0267\", \"Id: 4438<br />Predict: 0.0125\", \"Id: 1196<br />Predict: 0.0\", \"Id: 3109<br />Predict: 0.0\", \"Id: 2431<br />Predict: 0.0\", \"Id: 2535<br />Predict: 0.0\", \"Id: 1043<br />Predict: 0.0271\", \"Id: 3865<br />Predict: 0.0458\", \"Id: 1592<br />Predict: 0.0582\", \"Id: 696<br />Predict: 0.0\", \"Id: 2651<br />Predict: 0.0701\", \"Id: 4051<br />Predict: 0.056\", \"Id: 550<br />Predict: 0.0\", \"Id: 3150<br />Predict: 0.1736\", \"Id: 856<br />Predict: 0.0\", \"Id: 4535<br />Predict: 0.0037\", \"Id: 3324<br />Predict: 0.0\", \"Id: 1653<br />Predict: 0.0033\", \"Id: 3656<br />Predict: 0.0\", \"Id: 1383<br />Predict: 0.0\", \"Id: 2429<br />Predict: 0.005\", \"Id: 1473<br />Predict: 0.0737\", \"Id: 4785<br />Predict: 0.0\", \"Id: 1838<br />Predict: 0.055\", \"Id: 435<br />Predict: 0.0031\", \"Id: 4460<br />Predict: 0.0194\", \"Id: 1777<br />Predict: 0.0\", \"Id: 3730<br />Predict: 0.0327\", \"Id: 2754<br />Predict: 0.0703\", \"Id: 998<br />Predict: 0.0\", \"Id: 1587<br />Predict: 0.0\", \"Id: 1445<br />Predict: 0.0\", \"Id: 4145<br />Predict: 0.0676\", \"Id: 796<br />Predict: 0.0\", \"Id: 4751<br />Predict: 0.144\", \"Id: 730<br />Predict: 0.0\", \"Id: 4057<br />Predict: 0.0\", \"Id: 2279<br />Predict: 0.0\", \"Id: 5090<br />Predict: 0.0\", \"Id: 1335<br />Predict: 0.2716\", \"Id: 3646<br />Predict: 0.0115\", \"Id: 4642<br />Predict: 0.1012\", \"Id: 1543<br />Predict: 0.0242\", \"Id: 1310<br />Predict: 0.0\", \"Id: 1129<br />Predict: 0.0\", \"Id: 3704<br />Predict: 0.0033\", \"Id: 786<br />Predict: 0.0108\", \"Id: 2118<br />Predict: 0.0173\", \"Id: 4945<br />Predict: 0.0\", \"Id: 6<br />Predict: 0.0417\", \"Id: 4544<br />Predict: 0.0\", \"Id: 2475<br />Predict: 0.0\", \"Id: 1825<br />Predict: 0.0017\", \"Id: 3237<br />Predict: 0.034\", \"Id: 1726<br />Predict: 0.158\", \"Id: 737<br />Predict: 0.0042\", \"Id: 4672<br />Predict: 0.194\", \"Id: 4382<br />Predict: 0.0\", \"Id: 3413<br />Predict: 0.0\", \"Id: 490<br />Predict: 0.1294\", \"Id: 2809<br />Predict: 0.0025\", \"Id: 2691<br />Predict: 0.0187\", \"Id: 4595<br />Predict: 0.0033\", \"Id: 4720<br />Predict: 0.0\", \"Id: 1689<br />Predict: 0.0\", \"Id: 3366<br />Predict: 0.0\", \"Id: 1807<br />Predict: 0.0\", \"Id: 1633<br />Predict: 0.0\", \"Id: 2359<br />Predict: 0.0829\", \"Id: 1799<br />Predict: 0.0\", \"Id: 1573<br />Predict: 0.0\", \"Id: 3228<br />Predict: 0.0129\", \"Id: 213<br />Predict: 0.0045\", \"Id: 3133<br />Predict: 0.0\", \"Id: 4989<br />Predict: 0.0\", \"Id: 626<br />Predict: 0.0772\", \"Id: 3405<br />Predict: 0.0175\", \"Id: 711<br />Predict: 0.0083\", \"Id: 417<br />Predict: 0.0033\", \"Id: 4306<br />Predict: 0.0\", \"Id: 3735<br />Predict: 0.03\", \"Id: 3583<br />Predict: 0.0125\", \"Id: 669<br />Predict: 0.0\", \"Id: 1884<br />Predict: 0.0\", \"Id: 2789<br />Predict: 0.0017\", \"Id: 4440<br />Predict: 0.0283\", \"Id: 723<br />Predict: 0.0\", \"Id: 1378<br />Predict: 0.0\", \"Id: 4316<br />Predict: 0.0\", \"Id: 2492<br />Predict: 0.0172\", \"Id: 414<br />Predict: 0.0\", \"Id: 274<br />Predict: 0.0108\", \"Id: 3344<br />Predict: 0.007\", \"Id: 877<br />Predict: 0.0\", \"Id: 3953<br />Predict: 0.0913\", \"Id: 3753<br />Predict: 0.2619\", \"Id: 2958<br />Predict: 0.0\", \"Id: 2910<br />Predict: 0.0025\", \"Id: 1136<br />Predict: 0.0246\", \"Id: 1763<br />Predict: 0.0\", \"Id: 2259<br />Predict: 0.0\", \"Id: 2456<br />Predict: 0.08\", \"Id: 721<br />Predict: 0.0\", \"Id: 2395<br />Predict: 0.2381\", \"Id: 1107<br />Predict: 0.0\", \"Id: 4774<br />Predict: 0.0\", \"Id: 2613<br />Predict: 0.0\", \"Id: 5089<br />Predict: 0.0\", \"Id: 2791<br />Predict: 0.0125\", \"Id: 483<br />Predict: 0.0\", \"Id: 430<br />Predict: 0.0731\", \"Id: 1314<br />Predict: 0.0144\", \"Id: 1593<br />Predict: 0.0\", \"Id: 2203<br />Predict: 0.0149\", \"Id: 4997<br />Predict: 0.0\", \"Id: 4330<br />Predict: 0.0476\", \"Id: 939<br />Predict: 0.0\", \"Id: 1792<br />Predict: 0.005\", \"Id: 677<br />Predict: 0.0079\", \"Id: 3762<br />Predict: 0.0\", \"Id: 4393<br />Predict: 0.0\", \"Id: 1549<br />Predict: 0.0138\", \"Id: 2674<br />Predict: 0.1188\", \"Id: 468<br />Predict: 0.0243\", \"Id: 3904<br />Predict: 0.0\", \"Id: 4458<br />Predict: 0.0\", \"Id: 1666<br />Predict: 0.0\", \"Id: 3702<br />Predict: 0.0\", \"Id: 1918<br />Predict: 0.3916\", \"Id: 675<br />Predict: 0.0321\", \"Id: 215<br />Predict: 0.3611\", \"Id: 639<br />Predict: 0.0\", \"Id: 3013<br />Predict: 0.0087\", \"Id: 4030<br />Predict: 0.0\", \"Id: 564<br />Predict: 0.0\", \"Id: 2749<br />Predict: 0.0033\", \"Id: 2361<br />Predict: 0.0\", \"Id: 136<br />Predict: 0.093\", \"Id: 2898<br />Predict: 0.0\", \"Id: 1377<br />Predict: 0.0\", \"Id: 2642<br />Predict: 0.0361\", \"Id: 4578<br />Predict: 0.035\", \"Id: 3105<br />Predict: 0.0711\", \"Id: 1603<br />Predict: 0.0025\", \"Id: 1526<br />Predict: 0.0465\", \"Id: 1304<br />Predict: 0.0353\", \"Id: 106<br />Predict: 0.1895\", \"Id: 3686<br />Predict: 0.1525\", \"Id: 3631<br />Predict: 0.0075\", \"Id: 2526<br />Predict: 0.0037\", \"Id: 100<br />Predict: 0.0336\", \"Id: 237<br />Predict: 0.1136\", \"Id: 4185<br />Predict: 0.176\", \"Id: 1225<br />Predict: 0.134\", \"Id: 1167<br />Predict: 0.091\", \"Id: 674<br />Predict: 0.0\", \"Id: 177<br />Predict: 0.0396\", \"Id: 4329<br />Predict: 0.0\", \"Id: 3766<br />Predict: 0.0\", \"Id: 813<br />Predict: 0.0025\", \"Id: 2670<br />Predict: 0.0037\", \"Id: 1483<br />Predict: 0.0\", \"Id: 1410<br />Predict: 0.0183\", \"Id: 3289<br />Predict: 0.0\", \"Id: 1311<br />Predict: 0.0\", \"Id: 1291<br />Predict: 0.0826\", \"Id: 2814<br />Predict: 0.005\", \"Id: 4412<br />Predict: 0.0063\", \"Id: 3414<br />Predict: 0.0\", \"Id: 1028<br />Predict: 0.0075\", \"Id: 403<br />Predict: 0.0045\", \"Id: 901<br />Predict: 0.0025\", \"Id: 3326<br />Predict: 0.0\", \"Id: 4282<br />Predict: 0.0304\", \"Id: 3614<br />Predict: 0.0532\", \"Id: 4322<br />Predict: 0.0\", \"Id: 897<br />Predict: 0.1978\", \"Id: 1844<br />Predict: 0.0\", \"Id: 3308<br />Predict: 0.0662\", \"Id: 1155<br />Predict: 0.0\", \"Id: 2844<br />Predict: 0.0\", \"Id: 1487<br />Predict: 0.1037\", \"Id: 4328<br />Predict: 0.0\", \"Id: 1305<br />Predict: 0.0\", \"Id: 1441<br />Predict: 0.0353\", \"Id: 3195<br />Predict: 0.0323\", \"Id: 2072<br />Predict: 0.0385\", \"Id: 1158<br />Predict: 0.0233\", \"Id: 651<br />Predict: 0.0543\", \"Id: 1813<br />Predict: 0.2768\", \"Id: 4259<br />Predict: 0.0095\", \"Id: 2903<br />Predict: 0.11\", \"Id: 2199<br />Predict: 0.015\", \"Id: 4199<br />Predict: 0.0\", \"Id: 2695<br />Predict: 0.0\", \"Id: 3055<br />Predict: 0.003\", \"Id: 3168<br />Predict: 0.0\", \"Id: 504<br />Predict: 0.0423\", \"Id: 1773<br />Predict: 0.0\", \"Id: 1692<br />Predict: 0.3377\", \"Id: 3292<br />Predict: 0.0\", \"Id: 890<br />Predict: 0.1054\", \"Id: 1071<br />Predict: 0.0409\", \"Id: 3090<br />Predict: 0.1417\", \"Id: 1015<br />Predict: 0.3107\", \"Id: 3592<br />Predict: 0.0\", \"Id: 2153<br />Predict: 0.0568\", \"Id: 389<br />Predict: 0.2564\", \"Id: 1943<br />Predict: 0.0\", \"Id: 3934<br />Predict: 0.0\", \"Id: 709<br />Predict: 0.0\", \"Id: 3896<br />Predict: 0.0\", \"Id: 5029<br />Predict: 0.163\", \"Id: 4988<br />Predict: 0.1872\", \"Id: 4133<br />Predict: 0.0\", \"Id: 1880<br />Predict: 0.1358\", \"Id: 2028<br />Predict: 0.015\", \"Id: 1161<br />Predict: 0.0867\", \"Id: 2437<br />Predict: 0.0\", \"Id: 515<br />Predict: 0.0113\", \"Id: 2569<br />Predict: 0.0816\", \"Id: 2806<br />Predict: 0.0108\", \"Id: 4303<br />Predict: 0.0\", \"Id: 2678<br />Predict: 0.059\", \"Id: 31<br />Predict: 0.0042\", \"Id: 1720<br />Predict: 0.0628\", \"Id: 2720<br />Predict: 0.0221\", \"Id: 4098<br />Predict: 0.0\", \"Id: 3780<br />Predict: 0.1387\", \"Id: 1637<br />Predict: 0.0617\", \"Id: 4895<br />Predict: 0.0695\", \"Id: 1203<br />Predict: 0.005\", \"Id: 2776<br />Predict: 0.0\", \"Id: 3038<br />Predict: 0.0\", \"Id: 4250<br />Predict: 0.0507\", \"Id: 876<br />Predict: 0.0\", \"Id: 3362<br />Predict: 0.2388\", \"Id: 4015<br />Predict: 0.0301\", \"Id: 3560<br />Predict: 0.0\", \"Id: 2378<br />Predict: 0.0107\", \"Id: 2355<br />Predict: 0.0242\", \"Id: 3990<br />Predict: 0.0\", \"Id: 555<br />Predict: 0.0586\", \"Id: 4077<br />Predict: 0.0\", \"Id: 4352<br />Predict: 0.0609\", \"Id: 4044<br />Predict: 0.003\", \"Id: 3695<br />Predict: 0.0\", \"Id: 4432<br />Predict: 0.0\", \"Id: 2196<br />Predict: 0.0\", \"Id: 800<br />Predict: 0.0025\", \"Id: 1408<br />Predict: 0.0\", \"Id: 4459<br />Predict: 0.0495\", \"Id: 3404<br />Predict: 0.0\", \"Id: 3533<br />Predict: 0.0\", \"Id: 3747<br />Predict: 0.0\", \"Id: 3874<br />Predict: 0.01\", \"Id: 3354<br />Predict: 0.0\", \"Id: 2216<br />Predict: 0.0\", \"Id: 841<br />Predict: 0.0267\", \"Id: 1154<br />Predict: 0.0\", \"Id: 1714<br />Predict: 0.0\", \"Id: 1329<br />Predict: 0.0\", \"Id: 1204<br />Predict: 0.0\", \"Id: 4822<br />Predict: 0.0401\", \"Id: 886<br />Predict: 0.0\", \"Id: 4148<br />Predict: 0.0\", \"Id: 2182<br />Predict: 0.0872\", \"Id: 1506<br />Predict: 0.0616\", \"Id: 4504<br />Predict: 0.0175\", \"Id: 1346<br />Predict: 0.0509\", \"Id: 755<br />Predict: 0.2928\", \"Id: 1890<br />Predict: 0.0\", \"Id: 3044<br />Predict: 0.0037\", \"Id: 4183<br />Predict: 0.0186\", \"Id: 1087<br />Predict: 0.0\", \"Id: 4344<br />Predict: 0.3555\", \"Id: 869<br />Predict: 0.0\", \"Id: 4860<br />Predict: 0.0\", \"Id: 1983<br />Predict: 0.0\", \"Id: 1220<br />Predict: 0.0\", \"Id: 505<br />Predict: 0.095\", \"Id: 3657<br />Predict: 0.0\", \"Id: 4765<br />Predict: 0.0405\", \"Id: 4533<br />Predict: 0.0134\", \"Id: 2985<br />Predict: 0.0443\", \"Id: 818<br />Predict: 0.0\", \"Id: 518<br />Predict: 0.0465\", \"Id: 4302<br />Predict: 0.0\", \"Id: 469<br />Predict: 0.2689\", \"Id: 18<br />Predict: 0.0447\", \"Id: 4691<br />Predict: 0.0492\", \"Id: 204<br />Predict: 0.0099\", \"Id: 3421<br />Predict: 0.005\", \"Id: 56<br />Predict: 0.0762\", \"Id: 631<br />Predict: 0.0225\", \"Id: 5005<br />Predict: 0.0\", \"Id: 1405<br />Predict: 0.0\", \"Id: 3395<br />Predict: 0.0\", \"Id: 1063<br />Predict: 0.0108\", \"Id: 2750<br />Predict: 0.0\", \"Id: 952<br />Predict: 0.0\", \"Id: 1295<br />Predict: 0.0175\", \"Id: 3598<br />Predict: 0.0491\", \"Id: 2682<br />Predict: 0.131\", \"Id: 3696<br />Predict: 0.0\", \"Id: 4107<br />Predict: 0.0025\", \"Id: 4918<br />Predict: 0.0823\", \"Id: 3353<br />Predict: 0.0043\", \"Id: 717<br />Predict: 0.0\", \"Id: 4940<br />Predict: 0.0\", \"Id: 995<br />Predict: 0.0\", \"Id: 3746<br />Predict: 0.0\", \"Id: 2871<br />Predict: 0.0\", \"Id: 1788<br />Predict: 0.0592\", \"Id: 1614<br />Predict: 0.0\", \"Id: 3527<br />Predict: 0.0\", \"Id: 1525<br />Predict: 0.0\", \"Id: 3538<br />Predict: 0.0\", \"Id: 3386<br />Predict: 0.0\", \"Id: 335<br />Predict: 0.0\", \"Id: 3224<br />Predict: 0.0433\", \"Id: 3045<br />Predict: 0.0\", \"Id: 63<br />Predict: 0.0361\", \"Id: 4754<br />Predict: 0.0207\", \"Id: 3275<br />Predict: 0.1137\", \"Id: 2919<br />Predict: 0.0\", \"Id: 3100<br />Predict: 0.0346\", \"Id: 1625<br />Predict: 0.0025\", \"Id: 3510<br />Predict: 0.0042\", \"Id: 4708<br />Predict: 0.1904\", \"Id: 2077<br />Predict: 0.0105\", \"Id: 2451<br />Predict: 0.0017\", \"Id: 780<br />Predict: 0.0\", \"Id: 3685<br />Predict: 0.01\", \"Id: 407<br />Predict: 0.0\", \"Id: 860<br />Predict: 0.0163\", \"Id: 3175<br />Predict: 0.0\", \"Id: 572<br />Predict: 0.0602\", \"Id: 2509<br />Predict: 0.0025\", \"Id: 4358<br />Predict: 0.0\", \"Id: 3890<br />Predict: 0.0\", \"Id: 3555<br />Predict: 0.0\", \"Id: 1954<br />Predict: 0.1856\", \"Id: 3239<br />Predict: 0.0\", \"Id: 2974<br />Predict: 0.1543\", \"Id: 481<br />Predict: 0.2493\", \"Id: 3540<br />Predict: 0.0\", \"Id: 3653<br />Predict: 0.0\", \"Id: 2149<br />Predict: 0.0\", \"Id: 2029<br />Predict: 0.0403\", \"Id: 4317<br />Predict: 0.0\", \"Id: 2736<br />Predict: 0.0\", \"Id: 3600<br />Predict: 0.1251\", \"Id: 2782<br />Predict: 0.0\", \"Id: 4201<br />Predict: 0.0058\", \"Id: 1901<br />Predict: 0.0\", \"Id: 927<br />Predict: 0.0146\", \"Id: 511<br />Predict: 0.0173\", \"Id: 45<br />Predict: 0.3064\", \"Id: 4484<br />Predict: 0.0\", \"Id: 3830<br />Predict: 0.0\", \"Id: 3017<br />Predict: 0.1507\", \"Id: 3279<br />Predict: 0.0\", \"Id: 1949<br />Predict: 0.0208\", \"Id: 784<br />Predict: 0.0033\", \"Id: 1257<br />Predict: 0.0386\", \"Id: 393<br />Predict: 0.0443\", \"Id: 4806<br />Predict: 0.0\", \"Id: 340<br />Predict: 0.0\", \"Id: 1850<br />Predict: 0.0328\", \"Id: 3846<br />Predict: 0.0\", \"Id: 359<br />Predict: 0.0\", \"Id: 1271<br />Predict: 0.0\", \"Id: 2347<br />Predict: 0.0\", \"Id: 311<br />Predict: 0.1508\", \"Id: 4192<br />Predict: 0.0\", \"Id: 2283<br />Predict: 0.0025\", \"Id: 5026<br />Predict: 0.0355\", \"Id: 2558<br />Predict: 0.0\", \"Id: 4159<br />Predict: 0.0\", \"Id: 2659<br />Predict: 0.0\", \"Id: 3962<br />Predict: 0.2064\", \"Id: 843<br />Predict: 0.0\", \"Id: 463<br />Predict: 0.0836\", \"Id: 2366<br />Predict: 0.0709\", \"Id: 3680<br />Predict: 0.173\", \"Id: 3188<br />Predict: 0.0\", \"Id: 1395<br />Predict: 0.0158\", \"Id: 1571<br />Predict: 0.1148\", \"Id: 4832<br />Predict: 0.0\", \"Id: 4641<br />Predict: 0.0\", \"Id: 1964<br />Predict: 0.0596\", \"Id: 4565<br />Predict: 0.0033\", \"Id: 2916<br />Predict: 0.022\", \"Id: 3610<br />Predict: 0.0\", \"Id: 1016<br />Predict: 0.042\", \"Id: 4384<br />Predict: 0.0\", \"Id: 411<br />Predict: 0.0772\", \"Id: 2665<br />Predict: 0.0\", \"Id: 3443<br />Predict: 0.0167\", \"Id: 1056<br />Predict: 0.0\", \"Id: 4579<br />Predict: 0.0487\", \"Id: 507<br />Predict: 0.1621\", \"Id: 2478<br />Predict: 0.0\", \"Id: 1048<br />Predict: 0.0119\", \"Id: 3342<br />Predict: 0.1382\", \"Id: 4478<br />Predict: 0.0025\", \"Id: 1580<br />Predict: 0.0\", \"Id: 4154<br />Predict: 0.0849\", \"Id: 2358<br />Predict: 0.0\", \"Id: 769<br />Predict: 0.0033\", \"Id: 908<br />Predict: 0.0577\", \"Id: 4172<br />Predict: 0.0183\", \"Id: 670<br />Predict: 0.1134\", \"Id: 4262<br />Predict: 0.0\", \"Id: 1936<br />Predict: 0.0\", \"Id: 2628<br />Predict: 0.0\", \"Id: 3773<br />Predict: 0.0071\", \"Id: 3222<br />Predict: 0.2582\", \"Id: 2705<br />Predict: 0.0\", \"Id: 4095<br />Predict: 0.0063\", \"Id: 2115<br />Predict: 0.005\", \"Id: 1294<br />Predict: 0.0142\", \"Id: 3165<br />Predict: 0.0158\", \"Id: 1775<br />Predict: 0.1405\", \"Id: 3461<br />Predict: 0.2017\", \"Id: 2193<br />Predict: 0.0\", \"Id: 4494<br />Predict: 0.1162\", \"Id: 89<br />Predict: 0.0496\", \"Id: 632<br />Predict: 0.0123\", \"Id: 2479<br />Predict: 0.0\", \"Id: 82<br />Predict: 0.2569\", \"Id: 3437<br />Predict: 0.0058\", \"Id: 498<br />Predict: 0.0\", \"Id: 3031<br />Predict: 0.0213\", \"Id: 2875<br />Predict: 0.0\", \"Id: 740<br />Predict: 0.0\", \"Id: 429<br />Predict: 0.0288\", \"Id: 1331<br />Predict: 0.0017\", \"Id: 3801<br />Predict: 0.0\", \"Id: 1328<br />Predict: 0.0\", \"Id: 592<br />Predict: 0.0422\", \"Id: 1955<br />Predict: 0.0656\", \"Id: 951<br />Predict: 0.0\", \"Id: 2132<br />Predict: 0.2319\", \"Id: 3645<br />Predict: 0.0\", \"Id: 4851<br />Predict: 0.0129\", \"Id: 1859<br />Predict: 0.0612\", \"Id: 4082<br />Predict: 0.0\", \"Id: 3748<br />Predict: 0.0816\", \"Id: 1283<br />Predict: 0.4107\", \"Id: 4980<br />Predict: 0.0\", \"Id: 5020<br />Predict: 0.0\", \"Id: 3604<br />Predict: 0.0\", \"Id: 365<br />Predict: 0.1198\", \"Id: 5004<br />Predict: 0.0\", \"Id: 1970<br />Predict: 0.0123\", \"Id: 3078<br />Predict: 0.0079\", \"Id: 2794<br />Predict: 0.0\", \"Id: 2498<br />Predict: 0.0\", \"Id: 4304<br />Predict: 0.0232\", \"Id: 2112<br />Predict: 0.0\", \"Id: 1039<br />Predict: 0.0\", \"Id: 2274<br />Predict: 0.0\", \"Id: 2931<br />Predict: 0.0\", \"Id: 4514<br />Predict: 0.4066\", \"Id: 1275<br />Predict: 0.0\", \"Id: 2264<br />Predict: 0.0158\", \"Id: 4662<br />Predict: 0.0\", \"Id: 3731<br />Predict: 0.0\", \"Id: 9<br />Predict: 0.2197\", \"Id: 4943<br />Predict: 0.0\", \"Id: 1096<br />Predict: 0.0\", \"Id: 1818<br />Predict: 0.0369\", \"Id: 1639<br />Predict: 0.0\", \"Id: 2856<br />Predict: 0.0025\", \"Id: 2604<br />Predict: 0.0\", \"Id: 38<br />Predict: 0.0488\", \"Id: 3115<br />Predict: 0.0688\", \"Id: 2317<br />Predict: 0.0192\", \"Id: 4266<br />Predict: 0.4049\", \"Id: 3316<br />Predict: 0.207\", \"Id: 270<br />Predict: 0.0842\", \"Id: 1228<br />Predict: 0.27\", \"Id: 5028<br />Predict: 0.0\", \"Id: 2787<br />Predict: 0.0\", \"Id: 3212<br />Predict: 0.1772\", \"Id: 4666<br />Predict: 0.0218\", \"Id: 3313<br />Predict: 0.0\", \"Id: 1975<br />Predict: 0.0\", \"Id: 2261<br />Predict: 0.1039\", \"Id: 254<br />Predict: 0.0119\", \"Id: 62<br />Predict: 0.093\", \"Id: 1784<br />Predict: 0.0439\", \"Id: 255<br />Predict: 0.0173\", \"Id: 1783<br />Predict: 0.0\", \"Id: 1176<br />Predict: 0.0\", \"Id: 303<br />Predict: 0.0723\", \"Id: 4973<br />Predict: 0.0\", \"Id: 1958<br />Predict: 0.0\", \"Id: 892<br />Predict: 0.0\", \"Id: 2971<br />Predict: 0.0\", \"Id: 1023<br />Predict: 0.0369\", \"Id: 2394<br />Predict: 0.0\", \"Id: 1840<br />Predict: 0.0425\", \"Id: 2266<br />Predict: 0.0973\", \"Id: 3014<br />Predict: 0.1157\", \"Id: 4709<br />Predict: 0.0\", \"Id: 1804<br />Predict: 0.1625\", \"Id: 3647<br />Predict: 0.0\", \"Id: 842<br />Predict: 0.0\", \"Id: 4831<br />Predict: 0.0\", \"Id: 1761<br />Predict: 0.005\", \"Id: 4553<br />Predict: 0.0\", \"Id: 4327<br />Predict: 0.0484\", \"Id: 1075<br />Predict: 0.0236\", \"Id: 4005<br />Predict: 0.0208\", \"Id: 4041<br />Predict: 0.0\", \"Id: 1815<br />Predict: 0.0175\", \"Id: 1446<br />Predict: 0.0025\", \"Id: 3225<br />Predict: 0.0\", \"Id: 1020<br />Predict: 0.0\", \"Id: 4348<br />Predict: 0.0152\", \"Id: 2734<br />Predict: 0.073\", \"Id: 646<br />Predict: 0.1026\", \"Id: 1243<br />Predict: 0.0\", \"Id: 4433<br />Predict: 0.0033\", \"Id: 1517<br />Predict: 0.1012\", \"Id: 3071<br />Predict: 0.0257\", \"Id: 2663<br />Predict: 0.0\", \"Id: 3191<br />Predict: 0.0\", \"Id: 2430<br />Predict: 0.0987\", \"Id: 4343<br />Predict: 0.0\", \"Id: 1948<br />Predict: 0.0\", \"Id: 2508<br />Predict: 0.0122\", \"Id: 1665<br />Predict: 0.0\", \"Id: 3714<br />Predict: 0.0\", \"Id: 1416<br />Predict: 0.0117\", \"Id: 1497<br />Predict: 0.1334\", \"Id: 4894<br />Predict: 0.0\", \"Id: 2226<br />Predict: 0.0411\", \"Id: 241<br />Predict: 0.0937\", \"Id: 1122<br />Predict: 0.0\", \"Id: 3267<br />Predict: 0.0934\", \"Id: 5101<br />Predict: 0.0\", \"Id: 4267<br />Predict: 0.0\", \"Id: 2344<br />Predict: 0.0\", \"Id: 3626<br />Predict: 0.0\", \"Id: 439<br />Predict: 0.0368\", \"Id: 974<br />Predict: 0.0\", \"Id: 2596<br />Predict: 0.0025\", \"Id: 4891<br />Predict: 0.0\", \"Id: 4819<br />Predict: 0.0409\", \"Id: 2618<br />Predict: 0.0\", \"Id: 4125<br />Predict: 0.0067\", \"Id: 4838<br />Predict: 0.0495\", \"Id: 415<br />Predict: 0.0\", \"Id: 3784<br />Predict: 0.1243\", \"Id: 3444<br />Predict: 0.0037\", \"Id: 3718<br />Predict: 0.0518\", \"Id: 1341<br />Predict: 0.0042\", \"Id: 506<br />Predict: 0.0\", \"Id: 797<br />Predict: 0.0\", \"Id: 4788<br />Predict: 0.0\", \"Id: 233<br />Predict: 0.2096\", \"Id: 1952<br />Predict: 0.1047\", \"Id: 691<br />Predict: 0.0227\", \"Id: 509<br />Predict: 0.0\", \"Id: 2537<br />Predict: 0.0408\", \"Id: 4998<br />Predict: 0.0\", \"Id: 3986<br />Predict: 0.0\", \"Id: 4836<br />Predict: 0.3057\", \"Id: 663<br />Predict: 0.0025\", \"Id: 3907<br />Predict: 0.061\", \"Id: 1492<br />Predict: 0.0\", \"Id: 1264<br />Predict: 0.0025\", \"Id: 2536<br />Predict: 0.0\", \"Id: 828<br />Predict: 0.0065\", \"Id: 216<br />Predict: 0.0492\", \"Id: 2645<br />Predict: 0.0354\", \"Id: 2761<br />Predict: 0.0\", \"Id: 861<br />Predict: 0.0617\", \"Id: 2<br />Predict: 0.1835\", \"Id: 979<br />Predict: 0.0\", \"Id: 2018<br />Predict: 0.3026\", \"Id: 4151<br />Predict: 0.0\", \"Id: 4668<br />Predict: 0.0075\", \"Id: 3171<br />Predict: 0.0\", \"Id: 4063<br />Predict: 0.0\", \"Id: 3246<br />Predict: 0.0\", \"Id: 1299<br />Predict: 0.0\", \"Id: 3596<br />Predict: 0.0\", \"Id: 4119<br />Predict: 0.0\", \"Id: 3971<br />Predict: 0.0133\", \"Id: 2044<br />Predict: 0.0477\", \"Id: 2250<br />Predict: 0.1856\", \"Id: 35<br />Predict: 0.1788\", \"Id: 514<br />Predict: 0.0\", \"Id: 3025<br />Predict: 0.0\", \"Id: 3619<br />Predict: 0.0\", \"Id: 2334<br />Predict: 0.1881\", \"Id: 298<br />Predict: 0.061\", \"Id: 2605<br />Predict: 0.0\", \"Id: 1384<br />Predict: 0.172\", \"Id: 3229<br />Predict: 0.0\", \"Id: 3021<br />Predict: 0.2468\", \"Id: 4509<br />Predict: 0.0\", \"Id: 266<br />Predict: 0.0025\", \"Id: 3673<br />Predict: 0.0759\", \"Id: 1702<br />Predict: 0.0\", \"Id: 3419<br />Predict: 0.1072\", \"Id: 2108<br />Predict: 0.0\", \"Id: 368<br />Predict: 0.0\", \"Id: 4753<br />Predict: 0.035\", \"Id: 2544<br />Predict: 0.3757\", \"Id: 1407<br />Predict: 0.0637\", \"Id: 4123<br />Predict: 0.3066\", \"Id: 1569<br />Predict: 0.0087\", \"Id: 1207<br />Predict: 0.1445\", \"Id: 3886<br />Predict: 0.0\", \"Id: 3796<br />Predict: 0.0037\", \"Id: 3581<br />Predict: 0.0\", \"Id: 4400<br />Predict: 0.0\", \"Id: 3139<br />Predict: 0.0025\", \"Id: 3207<br />Predict: 0.0611\", \"Id: 4817<br />Predict: 0.0318\", \"Id: 4715<br />Predict: 0.0265\", \"Id: 209<br />Predict: 0.0823\", \"Id: 822<br />Predict: 0.0238\", \"Id: 4314<br />Predict: 0.0395\", \"Id: 4609<br />Predict: 0.0025\", \"Id: 2352<br />Predict: 0.0922\", \"Id: 1674<br />Predict: 0.0467\", \"Id: 3881<br />Predict: 0.005\", \"Id: 4824<br />Predict: 0.179\", \"Id: 2225<br />Predict: 0.0352\", \"Id: 1977<br />Predict: 0.0\", \"Id: 1485<br />Predict: 0.0133\", \"Id: 1710<br />Predict: 0.0142\", \"Id: 3274<br />Predict: 0.1336\", \"Id: 684<br />Predict: 0.0\", \"Id: 1768<br />Predict: 0.0\", \"Id: 1623<br />Predict: 0.0\", \"Id: 1873<br />Predict: 0.0303\", \"Id: 846<br />Predict: 0.3345\", \"Id: 4818<br />Predict: 0.0025\", \"Id: 4333<br />Predict: 0.0\", \"Id: 405<br />Predict: 0.2148\", \"Id: 3317<br />Predict: 0.1952\", \"Id: 3910<br />Predict: 0.0025\", \"Id: 1164<br />Predict: 0.0154\", \"Id: 4892<br />Predict: 0.0367\", \"Id: 4470<br />Predict: 0.0389\", \"Id: 2346<br />Predict: 0.0\", \"Id: 644<br />Predict: 0.0\", \"Id: 4935<br />Predict: 0.0\", \"Id: 4775<br />Predict: 0.0\", \"Id: 1050<br />Predict: 0.0718\", \"Id: 1137<br />Predict: 0.0\", \"Id: 4833<br />Predict: 0.0\", \"Id: 3398<br />Predict: 0.0\", \"Id: 977<br />Predict: 0.0\", \"Id: 3424<br />Predict: 0.0143\", \"Id: 2591<br />Predict: 0.015\", \"Id: 135<br />Predict: 0.0892\", \"Id: 4812<br />Predict: 0.0333\", \"Id: 727<br />Predict: 0.0\", \"Id: 2442<br />Predict: 0.0017\", \"Id: 4292<br />Predict: 0.0\", \"Id: 1037<br />Predict: 0.0\", \"Id: 1504<br />Predict: 0.0058\", \"Id: 3385<br />Predict: 0.0\", \"Id: 361<br />Predict: 0.1275\", \"Id: 1008<br />Predict: 0.0\", \"Id: 1474<br />Predict: 0.2198\", \"Id: 488<br />Predict: 0.0063\", \"Id: 4297<br />Predict: 0.1557\", \"Id: 1182<br />Predict: 0.0\", \"Id: 888<br />Predict: 0.0393\", \"Id: 244<br />Predict: 0.0636\", \"Id: 321<br />Predict: 0.0\", \"Id: 1451<br />Predict: 0.0767\", \"Id: 1308<br />Predict: 0.0333\", \"Id: 2210<br />Predict: 0.0075\", \"Id: 4718<br />Predict: 0.0\", \"Id: 4618<br />Predict: 0.0\", \"Id: 4623<br />Predict: 0.0033\", \"Id: 2990<br />Predict: 0.0\", \"Id: 2440<br />Predict: 0.0479\", \"Id: 3623<br />Predict: 0.0\", \"Id: 606<br />Predict: 0.0\", \"Id: 4908<br />Predict: 0.0947\", \"Id: 4821<br />Predict: 0.0588\", \"Id: 3550<br />Predict: 0.0\", \"Id: 2449<br />Predict: 0.0\", \"Id: 3593<br />Predict: 0.0\", \"Id: 748<br />Predict: 0.0017\", \"Id: 2921<br />Predict: 0.0\", \"Id: 4865<br />Predict: 0.0\", \"Id: 2292<br />Predict: 0.1152\", \"Id: 3416<br />Predict: 0.1324\", \"Id: 3649<br />Predict: 0.0071\", \"Id: 2247<br />Predict: 0.0\", \"Id: 3710<br />Predict: 0.0\", \"Id: 88<br />Predict: 0.0\", \"Id: 4029<br />Predict: 0.0067\", \"Id: 3451<br />Predict: 0.0\", \"Id: 3603<br />Predict: 0.2736\", \"Id: 2863<br />Predict: 0.0075\", \"Id: 4499<br />Predict: 0.0665\", \"Id: 1406<br />Predict: 0.0\", \"Id: 3969<br />Predict: 0.0524\", \"Id: 4319<br />Predict: 0.0\", \"Id: 2829<br />Predict: 0.0033\", \"Id: 2563<br />Predict: 0.0063\", \"Id: 3763<br />Predict: 0.0\", \"Id: 4645<br />Predict: 0.0\", \"Id: 3012<br />Predict: 0.112\", \"Id: 1690<br />Predict: 0.0144\", \"Id: 1240<br />Predict: 0.0804\", \"Id: 4738<br />Predict: 0.2062\", \"Id: 2934<br />Predict: 0.04\", \"Id: 109<br />Predict: 0.0422\", \"Id: 52<br />Predict: 0.1065\", \"Id: 584<br />Predict: 0.0083\", \"Id: 3877<br />Predict: 0.0\", \"Id: 3388<br />Predict: 0.2585\", \"Id: 3848<br />Predict: 0.0\", \"Id: 1759<br />Predict: 0.0348\", \"Id: 2002<br />Predict: 0.2581\", \"Id: 3189<br />Predict: 0.0\", \"Id: 164<br />Predict: 0.0196\", \"Id: 1084<br />Predict: 0.0\", \"Id: 3519<br />Predict: 0.0\", \"Id: 4773<br />Predict: 0.0527\", \"Id: 3609<br />Predict: 0.0096\", \"Id: 4810<br />Predict: 0.0204\", \"Id: 4187<br />Predict: 0.0\", \"Id: 2549<br />Predict: 0.0025\", \"Id: 2723<br />Predict: 0.0\", \"Id: 4734<br />Predict: 0.0576\", \"Id: 1348<br />Predict: 0.0323\", \"Id: 2505<br />Predict: 0.1008\", \"Id: 3869<br />Predict: 0.1188\", \"Id: 943<br />Predict: 0.0233\", \"Id: 3373<br />Predict: 0.0318\", \"Id: 1928<br />Predict: 0.0\", \"Id: 687<br />Predict: 0.0017\", \"Id: 1052<br />Predict: 0.0025\", \"Id: 1234<br />Predict: 0.0033\", \"Id: 4097<br />Predict: 0.0227\", \"Id: 3453<br />Predict: 0.0\", \"Id: 2388<br />Predict: 0.0\", \"Id: 1833<br />Predict: 0.0\", \"Id: 910<br />Predict: 0.1889\", \"Id: 3315<br />Predict: 0.0\", \"Id: 4205<br />Predict: 0.0\", \"Id: 331<br />Predict: 0.3827\", \"Id: 682<br />Predict: 0.0\", \"Id: 3296<br />Predict: 0.3247\", \"Id: 2813<br />Predict: 0.0\", \"Id: 1026<br />Predict: 0.0395\", \"Id: 4924<br />Predict: 0.0025\", \"Id: 344<br />Predict: 0.044\", \"Id: 725<br />Predict: 0.0\", \"Id: 734<br />Predict: 0.0\", \"Id: 924<br />Predict: 0.0095\", \"Id: 1201<br />Predict: 0.0137\", \"Id: 4289<br />Predict: 0.0\", \"Id: 4408<br />Predict: 0.2282\", \"Id: 3926<br />Predict: 0.0\", \"Id: 2052<br />Predict: 0.0017\", \"Id: 1289<br />Predict: 0.2715\", \"Id: 353<br />Predict: 0.0055\", \"Id: 708<br />Predict: 0.0461\", \"Id: 4114<br />Predict: 0.0\", \"Id: 2929<br />Predict: 0.0\", \"Id: 2600<br />Predict: 0.0075\", \"Id: 3086<br />Predict: 0.0\", \"Id: 2154<br />Predict: 0.0\", \"Id: 5051<br />Predict: 0.0037\", \"Id: 264<br />Predict: 0.0\", \"Id: 4373<br />Predict: 0.0313\", \"Id: 3509<br />Predict: 0.003\", \"Id: 996<br />Predict: 0.0\", \"Id: 1835<br />Predict: 0.0869\", \"Id: 4875<br />Predict: 0.0\", \"Id: 582<br />Predict: 0.0\", \"Id: 1585<br />Predict: 0.0673\", \"Id: 3956<br />Predict: 0.0063\", \"Id: 1794<br />Predict: 0.0\", \"Id: 1510<br />Predict: 0.0\", \"Id: 5013<br />Predict: 0.0042\", \"Id: 3898<br />Predict: 0.05\", \"Id: 1454<br />Predict: 0.0096\", \"Id: 4383<br />Predict: 0.0\", \"Id: 1093<br />Predict: 0.0\", \"Id: 1147<br />Predict: 0.0933\", \"Id: 1615<br />Predict: 0.0\", \"Id: 4705<br />Predict: 0.0\", \"Id: 2085<br />Predict: 0.0794\", \"Id: 1244<br />Predict: 0.0\", \"Id: 2049<br />Predict: 0.0289\", \"Id: 4739<br />Predict: 0.0\", \"Id: 4710<br />Predict: 0.0\", \"Id: 3617<br />Predict: 0.0\", \"Id: 4856<br />Predict: 0.0\", \"Id: 659<br />Predict: 0.0233\", \"Id: 4979<br />Predict: 0.1028\", \"Id: 3832<br />Predict: 0.166\", \"Id: 3160<br />Predict: 0.0\", \"Id: 3210<br />Predict: 0.0223\", \"Id: 2745<br />Predict: 0.0\", \"Id: 21<br />Predict: 0.0294\", \"Id: 1626<br />Predict: 0.0102\", \"Id: 3825<br />Predict: 0.0578\", \"Id: 3658<br />Predict: 0.2433\", \"Id: 4823<br />Predict: 0.1722\", \"Id: 1515<br />Predict: 0.1878\", \"Id: 4136<br />Predict: 0.0154\", \"Id: 4534<br />Predict: 0.039\", \"Id: 4536<br />Predict: 0.1833\", \"Id: 775<br />Predict: 0.0\", \"Id: 4066<br />Predict: 0.172\", \"Id: 1376<br />Predict: 0.0329\", \"Id: 2403<br />Predict: 0.1366\", \"Id: 2093<br />Predict: 0.0\", \"Id: 3974<br />Predict: 0.01\", \"Id: 422<br />Predict: 0.0213\", \"Id: 1098<br />Predict: 0.4508\", \"Id: 3932<br />Predict: 0.0\", \"Id: 2167<br />Predict: 0.005\", \"Id: 2534<br />Predict: 0.0\", \"Id: 214<br />Predict: 0.1007\", \"Id: 2181<br />Predict: 0.0\", \"Id: 2047<br />Predict: 0.0017\", \"Id: 5085<br />Predict: 0.0437\", \"Id: 565<br />Predict: 0.0325\", \"Id: 1489<br />Predict: 0.0\", \"Id: 660<br />Predict: 0.1247\", \"Id: 1404<br />Predict: 0.0204\", \"Id: 2486<br />Predict: 0.027\", \"Id: 341<br />Predict: 0.0\", \"Id: 3858<br />Predict: 0.0\", \"Id: 1467<br />Predict: 0.0\", \"Id: 249<br />Predict: 0.0\", \"Id: 3091<br />Predict: 0.1327\", \"Id: 4766<br />Predict: 0.0\", \"Id: 4294<br />Predict: 0.0\", \"Id: 3813<br />Predict: 0.0\", \"Id: 2622<br />Predict: 0.0\", \"Id: 293<br />Predict: 0.3005\", \"Id: 4842<br />Predict: 0.0\", \"Id: 5058<br />Predict: 0.0\", \"Id: 2699<br />Predict: 0.0108\", \"Id: 1841<br />Predict: 0.0025\", \"Id: 4939<br />Predict: 0.0708\", \"Id: 2777<br />Predict: 0.0112\", \"Id: 4473<br />Predict: 0.0413\", \"Id: 262<br />Predict: 0.0\", \"Id: 392<br />Predict: 0.1595\", \"Id: 3203<br />Predict: 0.0092\", \"Id: 569<br />Predict: 0.0134\", \"Id: 531<br />Predict: 0.0\", \"Id: 904<br />Predict: 0.0\", \"Id: 3147<br />Predict: 0.0025\", \"Id: 2833<br />Predict: 0.0\", \"Id: 4265<br />Predict: 0.0\", \"Id: 165<br />Predict: 0.1645\", \"Id: 384<br />Predict: 0.0\", \"Id: 2704<br />Predict: 0.1488\", \"Id: 624<br />Predict: 0.0342\", \"Id: 2031<br />Predict: 0.0\", \"Id: 1736<br />Predict: 0.0\", \"Id: 1672<br />Predict: 0.0\", \"Id: 3844<br />Predict: 0.0313\", \"Id: 1522<br />Predict: 0.0939\", \"Id: 1606<br />Predict: 0.071\", \"Id: 3800<br />Predict: 0.0\", \"Id: 1667<br />Predict: 0.0025\", \"Id: 3839<br />Predict: 0.0237\", \"Id: 3400<br />Predict: 0.3949\", \"Id: 2977<br />Predict: 0.3116\", \"Id: 1886<br />Predict: 0.0\", \"Id: 3991<br />Predict: 0.0919\", \"Id: 3771<br />Predict: 0.1993\", \"Id: 2034<br />Predict: 0.0112\", \"Id: 2032<br />Predict: 0.0125\", \"Id: 1508<br />Predict: 0.0058\", \"Id: 2370<br />Predict: 0.0\", \"Id: 2632<br />Predict: 0.0381\", \"Id: 1392<br />Predict: 0.0\", \"Id: 641<br />Predict: 0.0\", \"Id: 3818<br />Predict: 0.0\", \"Id: 300<br />Predict: 0.0841\", \"Id: 3269<br />Predict: 0.0053\", \"Id: 5082<br />Predict: 0.0\", \"Id: 1961<br />Predict: 0.0\", \"Id: 3347<br />Predict: 0.0978\", \"Id: 1134<br />Predict: 0.0\", \"Id: 4521<br />Predict: 0.0909\", \"Id: 169<br />Predict: 0.1542\", \"Id: 2501<br />Predict: 0.005\", \"Id: 2819<br />Predict: 0.0\", \"Id: 3911<br />Predict: 0.0\", \"Id: 4160<br />Predict: 0.0\", \"Id: 732<br />Predict: 0.0054\", \"Id: 3522<br />Predict: 0.1726\", \"Id: 2435<br />Predict: 0.0058\", \"Id: 4501<br />Predict: 0.0\", \"Id: 1896<br />Predict: 0.0\", \"Id: 2422<br />Predict: 0.0347\", \"Id: 3840<br />Predict: 0.0\", \"Id: 3999<br />Predict: 0.0\", \"Id: 1247<br />Predict: 0.1414\", \"Id: 1956<br />Predict: 0.0\", \"Id: 4665<br />Predict: 0.207\", \"Id: 1429<br />Predict: 0.0\", \"Id: 2116<br />Predict: 0.0\", \"Id: 327<br />Predict: 0.0\", \"Id: 3897<br />Predict: 0.0\", \"Id: 3756<br />Predict: 0.4378\", \"Id: 2561<br />Predict: 0.0162\", \"Id: 4488<br />Predict: 0.0\", \"Id: 3764<br />Predict: 0.0205\", \"Id: 68<br />Predict: 0.0063\", \"Id: 3463<br />Predict: 0.0\", \"Id: 3254<br />Predict: 0.0133\", \"Id: 2630<br />Predict: 0.0\", \"Id: 1307<br />Predict: 0.0\", \"Id: 1939<br />Predict: 0.2776\", \"Id: 667<br />Predict: 0.0\", \"Id: 2441<br />Predict: 0.0226\", \"Id: 3037<br />Predict: 0.0\", \"Id: 2609<br />Predict: 0.0221\", \"Id: 3384<br />Predict: 0.0548\", \"Id: 1390<br />Predict: 0.0\", \"Id: 3804<br />Predict: 0.0025\", \"Id: 1822<br />Predict: 0.0\", \"Id: 1368<br />Predict: 0.031\", \"Id: 157<br />Predict: 0.0067\", \"Id: 4424<br />Predict: 0.0\", \"Id: 2506<br />Predict: 0.0017\", \"Id: 2025<br />Predict: 0.0643\", \"Id: 3987<br />Predict: 0.0\", \"Id: 60<br />Predict: 0.1236\", \"Id: 3023<br />Predict: 0.0\", \"Id: 2664<br />Predict: 0.0092\", \"Id: 2470<br />Predict: 0.0097\", \"Id: 527<br />Predict: 0.0\", \"Id: 902<br />Predict: 0.1792\", \"Id: 397<br />Predict: 0.2161\", \"Id: 2357<br />Predict: 0.0065\", \"Id: 4120<br />Predict: 0.0\", \"Id: 2530<br />Predict: 0.0\", \"Id: 2076<br />Predict: 0.0\", \"Id: 181<br />Predict: 0.0523\", \"Id: 4621<br />Predict: 0.0117\", \"Id: 1209<br />Predict: 0.0\", \"Id: 3843<br />Predict: 0.0\", \"Id: 844<br />Predict: 0.0\", \"Id: 1259<br />Predict: 0.0058\", \"Id: 3985<br />Predict: 0.0\", \"Id: 973<br />Predict: 0.2556\", \"Id: 267<br />Predict: 0.0025\", \"Id: 1472<br />Predict: 0.3995\", \"Id: 3563<br />Predict: 0.1114\", \"Id: 3378<br />Predict: 0.0292\", \"Id: 4350<br />Predict: 0.0133\", \"Id: 714<br />Predict: 0.0\", \"Id: 3092<br />Predict: 0.0\", \"Id: 2698<br />Predict: 0.0\", \"Id: 4717<br />Predict: 0.0\", \"Id: 3083<br />Predict: 0.0957\", \"Id: 1598<br />Predict: 0.0154\", \"Id: 4885<br />Predict: 0.0092\", \"Id: 86<br />Predict: 0.101\", \"Id: 1934<br />Predict: 0.0\", \"Id: 2993<br />Predict: 0.0083\", \"Id: 712<br />Predict: 0.0504\", \"Id: 2862<br />Predict: 0.0\", \"Id: 3679<br />Predict: 0.0025\", \"Id: 4443<br />Predict: 0.2136\", \"Id: 3611<br />Predict: 0.018\", \"Id: 1855<br />Predict: 0.0025\", \"Id: 835<br />Predict: 0.1002\", \"Id: 1946<br />Predict: 0.089\", \"Id: 1119<br />Predict: 0.0172\", \"Id: 4816<br />Predict: 0.2037\", \"Id: 5007<br />Predict: 0.0424\", \"Id: 1359<br />Predict: 0.0\", \"Id: 3064<br />Predict: 0.0\", \"Id: 2421<br />Predict: 0.0104\", \"Id: 3101<br />Predict: 0.0086\", \"Id: 385<br />Predict: 0.002\", \"Id: 3666<br />Predict: 0.0\", \"Id: 664<br />Predict: 0.0025\", \"Id: 2425<br />Predict: 0.0\", \"Id: 1389<br />Predict: 0.0\", \"Id: 3001<br />Predict: 0.0\", \"Id: 1491<br />Predict: 0.0893\", \"Id: 4724<br />Predict: 0.5085\", \"Id: 1493<br />Predict: 0.0\", \"Id: 4258<br />Predict: 0.0148\", \"Id: 1420<br />Predict: 0.0\", \"Id: 346<br />Predict: 0.0381\", \"Id: 5041<br />Predict: 0.0474\", \"Id: 2289<br />Predict: 0.0\", \"Id: 3799<br />Predict: 0.0\", \"Id: 2364<br />Predict: 0.0\", \"Id: 906<br />Predict: 0.0478\", \"Id: 3903<br />Predict: 0.0219\", \"Id: 3401<br />Predict: 0.0\", \"Id: 465<br />Predict: 0.1466\", \"Id: 1440<br />Predict: 0.1499\", \"Id: 3957<br />Predict: 0.1229\", \"Id: 4237<br />Predict: 0.0\", \"Id: 3543<br />Predict: 0.0\", \"Id: 1982<br />Predict: 0.0\", \"Id: 3205<br />Predict: 0.0\", \"Id: 2299<br />Predict: 0.0\", \"Id: 2963<br />Predict: 0.0025\", \"Id: 2900<br />Predict: 0.0841\", \"Id: 2981<br />Predict: 0.0196\", \"Id: 116<br />Predict: 0.0422\", \"Id: 1691<br />Predict: 0.2119\", \"Id: 4090<br />Predict: 0.0\", \"Id: 4137<br />Predict: 0.0\", \"Id: 4012<br />Predict: 0.0108\", \"Id: 4620<br />Predict: 0.0\", \"Id: 10<br />Predict: 0.1172\", \"Id: 923<br />Predict: 0.1789\", \"Id: 1875<br />Predict: 0.1031\", \"Id: 661<br />Predict: 0.0826\", \"Id: 382<br />Predict: 0.206\", \"Id: 741<br />Predict: 0.0834\", \"Id: 1381<br />Predict: 0.3123\", \"Id: 4476<br />Predict: 0.0229\", \"Id: 97<br />Predict: 0.1305\", \"Id: 3253<br />Predict: 0.0\", \"Id: 3409<br />Predict: 0.0\", \"Id: 4840<br />Predict: 0.0\", \"Id: 349<br />Predict: 0.0748\", \"Id: 2194<br />Predict: 0.0\", \"Id: 79<br />Predict: 0.0025\", \"Id: 2081<br />Predict: 0.1974\", \"Id: 5012<br />Predict: 0.0\", \"Id: 4797<br />Predict: 0.0375\", \"Id: 4423<br />Predict: 0.0\", \"Id: 4217<br />Predict: 0.0785\", \"Id: 4131<br />Predict: 0.0\", \"Id: 4203<br />Predict: 0.0\", \"Id: 3652<br />Predict: 0.0\", \"Id: 1200<br />Predict: 0.4167\", \"Id: 207<br />Predict: 0.05\", \"Id: 1654<br />Predict: 0.2102\", \"Id: 1703<br />Predict: 0.0108\", \"Id: 658<br />Predict: 0.0\", \"Id: 1857<br />Predict: 0.0007\", \"Id: 692<br />Predict: 0.0\", \"Id: 2310<br />Predict: 0.0\", \"Id: 2257<br />Predict: 0.3389\", \"Id: 4647<br />Predict: 0.0308\", \"Id: 1682<br />Predict: 0.0\", \"Id: 4540<br />Predict: 0.0\", \"Id: 2342<br />Predict: 0.183\", \"Id: 1965<br />Predict: 0.0\", \"Id: 4793<br />Predict: 0.0\", \"Id: 961<br />Predict: 0.0\", \"Id: 4070<br />Predict: 0.1361\", \"Id: 1521<br />Predict: 0.0804\", \"Id: 4904<br />Predict: 0.0\", \"Id: 3931<br />Predict: 0.319\", \"Id: 4138<br />Predict: 0.4552\"], \"marker\": {\"color\": [0.0, 0.0337, 0.0, 0.0025, 0.1924, 0.0425, 0.0298, 0.0, 0.0401, 0.0, 0.0, 0.0154, 0.1238, 0.0352, 0.0, 0.2319, 0.1866, 0.1665, 0.0, 0.005, 0.0821, 0.0, 0.2998, 0.0, 0.1637, 0.1525, 0.1981, 0.0, 0.0, 0.005, 0.0234, 0.0067, 0.0443, 0.0036, 0.0223, 0.0, 0.0217, 0.0029, 0.0, 0.0308, 0.001, 0.0, 0.0223, 0.0, 0.1218, 0.066, 0.0386, 0.0801, 0.0, 0.0172, 0.0, 0.3268, 0.0, 0.1076, 0.0, 0.0, 0.1372, 0.0, 0.0, 0.1902, 0.0, 0.0037, 0.0017, 0.0025, 0.0058, 0.0296, 0.0453, 0.0104, 0.0, 0.1441, 0.1587, 0.065, 0.0, 0.0083, 0.0, 0.0, 0.1358, 0.0117, 0.0, 0.1928, 0.306, 0.0, 0.0, 0.0037, 0.0, 0.0, 0.0, 0.0, 0.0013, 0.1159, 0.0644, 0.0147, 0.0944, 0.0, 0.0, 0.051, 0.0, 0.1125, 0.0, 0.0058, 0.0567, 0.0, 0.0, 0.0, 0.0, 0.0017, 0.0, 0.1735, 0.0, 0.0042, 0.0, 0.0, 0.0715, 0.1012, 0.0499, 0.0, 0.0277, 0.0, 0.0, 0.0421, 0.0, 0.0017, 0.0, 0.0063, 0.0127, 0.1433, 0.0584, 0.0445, 0.0033, 0.1352, 0.2758, 0.0, 0.0242, 0.08, 0.0, 0.0, 0.0, 0.1977, 0.0025, 0.0, 0.0803, 0.0, 0.153, 0.0153, 0.0025, 0.0, 0.0115, 0.005, 0.0, 0.0, 0.0, 0.0, 0.0072, 0.1807, 0.0267, 0.0125, 0.0, 0.0, 0.0, 0.0, 0.0271, 0.0458, 0.0582, 0.0, 0.0701, 0.056, 0.0, 0.1736, 0.0, 0.0037, 0.0, 0.0033, 0.0, 0.0, 0.005, 0.0737, 0.0, 0.055, 0.0031, 0.0194, 0.0, 0.0327, 0.0703, 0.0, 0.0, 0.0, 0.0676, 0.0, 0.144, 0.0, 0.0, 0.0, 0.0, 0.2716, 0.0115, 0.1012, 0.0242, 0.0, 0.0, 0.0033, 0.0108, 0.0173, 0.0, 0.0417, 0.0, 0.0, 0.0017, 0.034, 0.158, 0.0042, 0.194, 0.0, 0.0, 0.1294, 0.0025, 0.0187, 0.0033, 0.0, 0.0, 0.0, 0.0, 0.0, 0.0829, 0.0, 0.0, 0.0129, 0.0045, 0.0, 0.0, 0.0772, 0.0175, 0.0083, 0.0033, 0.0, 0.03, 0.0125, 0.0, 0.0, 0.0017, 0.0283, 0.0, 0.0, 0.0, 0.0172, 0.0, 0.0108, 0.007, 0.0, 0.0913, 0.2619, 0.0, 0.0025, 0.0246, 0.0, 0.0, 0.08, 0.0, 0.2381, 0.0, 0.0, 0.0, 0.0, 0.0125, 0.0, 0.0731, 0.0144, 0.0, 0.0149, 0.0, 0.0476, 0.0, 0.005, 0.0079, 0.0, 0.0, 0.0138, 0.1188, 0.0243, 0.0, 0.0, 0.0, 0.0, 0.3916, 0.0321, 0.3611, 0.0, 0.0087, 0.0, 0.0, 0.0033, 0.0, 0.093, 0.0, 0.0, 0.0361, 0.035, 0.0711, 0.0025, 0.0465, 0.0353, 0.1895, 0.1525, 0.0075, 0.0037, 0.0336, 0.1136, 0.176, 0.134, 0.091, 0.0, 0.0396, 0.0, 0.0, 0.0025, 0.0037, 0.0, 0.0183, 0.0, 0.0, 0.0826, 0.005, 0.0063, 0.0, 0.0075, 0.0045, 0.0025, 0.0, 0.0304, 0.0532, 0.0, 0.1978, 0.0, 0.0662, 0.0, 0.0, 0.1037, 0.0, 0.0, 0.0353, 0.0323, 0.0385, 0.0233, 0.0543, 0.2768, 0.0095, 0.11, 0.015, 0.0, 0.0, 0.003, 0.0, 0.0423, 0.0, 0.3377, 0.0, 0.1054, 0.0409, 0.1417, 0.3107, 0.0, 0.0568, 0.2564, 0.0, 0.0, 0.0, 0.0, 0.163, 0.1872, 0.0, 0.1358, 0.015, 0.0867, 0.0, 0.0113, 0.0816, 0.0108, 0.0, 0.059, 0.0042, 0.0628, 0.0221, 0.0, 0.1387, 0.0617, 0.0695, 0.005, 0.0, 0.0, 0.0507, 0.0, 0.2388, 0.0301, 0.0, 0.0107, 0.0242, 0.0, 0.0586, 0.0, 0.0609, 0.003, 0.0, 0.0, 0.0, 0.0025, 0.0, 0.0495, 0.0, 0.0, 0.0, 0.01, 0.0, 0.0, 0.0267, 0.0, 0.0, 0.0, 0.0, 0.0401, 0.0, 0.0, 0.0872, 0.0616, 0.0175, 0.0509, 0.2928, 0.0, 0.0037, 0.0186, 0.0, 0.3555, 0.0, 0.0, 0.0, 0.0, 0.095, 0.0, 0.0405, 0.0134, 0.0443, 0.0, 0.0465, 0.0, 0.2689, 0.0447, 0.0492, 0.0099, 0.005, 0.0762, 0.0225, 0.0, 0.0, 0.0, 0.0108, 0.0, 0.0, 0.0175, 0.0491, 0.131, 0.0, 0.0025, 0.0823, 0.0043, 0.0, 0.0, 0.0, 0.0, 0.0, 0.0592, 0.0, 0.0, 0.0, 0.0, 0.0, 0.0, 0.0433, 0.0, 0.0361, 0.0207, 0.1137, 0.0, 0.0346, 0.0025, 0.0042, 0.1904, 0.0105, 0.0017, 0.0, 0.01, 0.0, 0.0163, 0.0, 0.0602, 0.0025, 0.0, 0.0, 0.0, 0.1856, 0.0, 0.1543, 0.2493, 0.0, 0.0, 0.0, 0.0403, 0.0, 0.0, 0.1251, 0.0, 0.0058, 0.0, 0.0146, 0.0173, 0.3064, 0.0, 0.0, 0.1507, 0.0, 0.0208, 0.0033, 0.0386, 0.0443, 0.0, 0.0, 0.0328, 0.0, 0.0, 0.0, 0.0, 0.1508, 0.0, 0.0025, 0.0355, 0.0, 0.0, 0.0, 0.2064, 0.0, 0.0836, 0.0709, 0.173, 0.0, 0.0158, 0.1148, 0.0, 0.0, 0.0596, 0.0033, 0.022, 0.0, 0.042, 0.0, 0.0772, 0.0, 0.0167, 0.0, 0.0487, 0.1621, 0.0, 0.0119, 0.1382, 0.0025, 0.0, 0.0849, 0.0, 0.0033, 0.0577, 0.0183, 0.1134, 0.0, 0.0, 0.0, 0.0071, 0.2582, 0.0, 0.0063, 0.005, 0.0142, 0.0158, 0.1405, 0.2017, 0.0, 0.1162, 0.0496, 0.0123, 0.0, 0.2569, 0.0058, 0.0, 0.0213, 0.0, 0.0, 0.0288, 0.0017, 0.0, 0.0, 0.0422, 0.0656, 0.0, 0.2319, 0.0, 0.0129, 0.0612, 0.0, 0.0816, 0.4107, 0.0, 0.0, 0.0, 0.1198, 0.0, 0.0123, 0.0079, 0.0, 0.0, 0.0232, 0.0, 0.0, 0.0, 0.0, 0.4066, 0.0, 0.0158, 0.0, 0.0, 0.2197, 0.0, 0.0, 0.0369, 0.0, 0.0025, 0.0, 0.0488, 0.0688, 0.0192, 0.4049, 0.207, 0.0842, 0.27, 0.0, 0.0, 0.1772, 0.0218, 0.0, 0.0, 0.1039, 0.0119, 0.093, 0.0439, 0.0173, 0.0, 0.0, 0.0723, 0.0, 0.0, 0.0, 0.0, 0.0369, 0.0, 0.0425, 0.0973, 0.1157, 0.0, 0.1625, 0.0, 0.0, 0.0, 0.005, 0.0, 0.0484, 0.0236, 0.0208, 0.0, 0.0175, 0.0025, 0.0, 0.0, 0.0152, 0.073, 0.1026, 0.0, 0.0033, 0.1012, 0.0257, 0.0, 0.0, 0.0987, 0.0, 0.0, 0.0122, 0.0, 0.0, 0.0117, 0.1334, 0.0, 0.0411, 0.0937, 0.0, 0.0934, 0.0, 0.0, 0.0, 0.0, 0.0368, 0.0, 0.0025, 0.0, 0.0409, 0.0, 0.0067, 0.0495, 0.0, 0.1243, 0.0037, 0.0518, 0.0042, 0.0, 0.0, 0.0, 0.2096, 0.1047, 0.0227, 0.0, 0.0408, 0.0, 0.0, 0.3057, 0.0025, 0.061, 0.0, 0.0025, 0.0, 0.0065, 0.0492, 0.0354, 0.0, 0.0617, 0.1835, 0.0, 0.3026, 0.0, 0.0075, 0.0, 0.0, 0.0, 0.0, 0.0, 0.0, 0.0133, 0.0477, 0.1856, 0.1788, 0.0, 0.0, 0.0, 0.1881, 0.061, 0.0, 0.172, 0.0, 0.2468, 0.0, 0.0025, 0.0759, 0.0, 0.1072, 0.0, 0.0, 0.035, 0.3757, 0.0637, 0.3066, 0.0087, 0.1445, 0.0, 0.0037, 0.0, 0.0, 0.0025, 0.0611, 0.0318, 0.0265, 0.0823, 0.0238, 0.0395, 0.0025, 0.0922, 0.0467, 0.005, 0.179, 0.0352, 0.0, 0.0133, 0.0142, 0.1336, 0.0, 0.0, 0.0, 0.0303, 0.3345, 0.0025, 0.0, 0.2148, 0.1952, 0.0025, 0.0154, 0.0367, 0.0389, 0.0, 0.0, 0.0, 0.0, 0.0718, 0.0, 0.0, 0.0, 0.0, 0.0143, 0.015, 0.0892, 0.0333, 0.0, 0.0017, 0.0, 0.0, 0.0058, 0.0, 0.1275, 0.0, 0.2198, 0.0063, 0.1557, 0.0, 0.0393, 0.0636, 0.0, 0.0767, 0.0333, 0.0075, 0.0, 0.0, 0.0033, 0.0, 0.0479, 0.0, 0.0, 0.0947, 0.0588, 0.0, 0.0, 0.0, 0.0017, 0.0, 0.0, 0.1152, 0.1324, 0.0071, 0.0, 0.0, 0.0, 0.0067, 0.0, 0.2736, 0.0075, 0.0665, 0.0, 0.0524, 0.0, 0.0033, 0.0063, 0.0, 0.0, 0.112, 0.0144, 0.0804, 0.2062, 0.04, 0.0422, 0.1065, 0.0083, 0.0, 0.2585, 0.0, 0.0348, 0.2581, 0.0, 0.0196, 0.0, 0.0, 0.0527, 0.0096, 0.0204, 0.0, 0.0025, 0.0, 0.0576, 0.0323, 0.1008, 0.1188, 0.0233, 0.0318, 0.0, 0.0017, 0.0025, 0.0033, 0.0227, 0.0, 0.0, 0.0, 0.1889, 0.0, 0.0, 0.3827, 0.0, 0.3247, 0.0, 0.0395, 0.0025, 0.044, 0.0, 0.0, 0.0095, 0.0137, 0.0, 0.2282, 0.0, 0.0017, 0.2715, 0.0055, 0.0461, 0.0, 0.0, 0.0075, 0.0, 0.0, 0.0037, 0.0, 0.0313, 0.003, 0.0, 0.0869, 0.0, 0.0, 0.0673, 0.0063, 0.0, 0.0, 0.0042, 0.05, 0.0096, 0.0, 0.0, 0.0933, 0.0, 0.0, 0.0794, 0.0, 0.0289, 0.0, 0.0, 0.0, 0.0, 0.0233, 0.1028, 0.166, 0.0, 0.0223, 0.0, 0.0294, 0.0102, 0.0578, 0.2433, 0.1722, 0.1878, 0.0154, 0.039, 0.1833, 0.0, 0.172, 0.0329, 0.1366, 0.0, 0.01, 0.0213, 0.4508, 0.0, 0.005, 0.0, 0.1007, 0.0, 0.0017, 0.0437, 0.0325, 0.0, 0.1247, 0.0204, 0.027, 0.0, 0.0, 0.0, 0.0, 0.1327, 0.0, 0.0, 0.0, 0.0, 0.3005, 0.0, 0.0, 0.0108, 0.0025, 0.0708, 0.0112, 0.0413, 0.0, 0.1595, 0.0092, 0.0134, 0.0, 0.0, 0.0025, 0.0, 0.0, 0.1645, 0.0, 0.1488, 0.0342, 0.0, 0.0, 0.0, 0.0313, 0.0939, 0.071, 0.0, 0.0025, 0.0237, 0.3949, 0.3116, 0.0, 0.0919, 0.1993, 0.0112, 0.0125, 0.0058, 0.0, 0.0381, 0.0, 0.0, 0.0, 0.0841, 0.0053, 0.0, 0.0, 0.0978, 0.0, 0.0909, 0.1542, 0.005, 0.0, 0.0, 0.0, 0.0054, 0.1726, 0.0058, 0.0, 0.0, 0.0347, 0.0, 0.0, 0.1414, 0.0, 0.207, 0.0, 0.0, 0.0, 0.0, 0.4378, 0.0162, 0.0, 0.0205, 0.0063, 0.0, 0.0133, 0.0, 0.0, 0.2776, 0.0, 0.0226, 0.0, 0.0221, 0.0548, 0.0, 0.0025, 0.0, 0.031, 0.0067, 0.0, 0.0017, 0.0643, 0.0, 0.1236, 0.0, 0.0092, 0.0097, 0.0, 0.1792, 0.2161, 0.0065, 0.0, 0.0, 0.0, 0.0523, 0.0117, 0.0, 0.0, 0.0, 0.0058, 0.0, 0.2556, 0.0025, 0.3995, 0.1114, 0.0292, 0.0133, 0.0, 0.0, 0.0, 0.0, 0.0957, 0.0154, 0.0092, 0.101, 0.0, 0.0083, 0.0504, 0.0, 0.0025, 0.2136, 0.018, 0.0025, 0.1002, 0.089, 0.0172, 0.2037, 0.0424, 0.0, 0.0, 0.0104, 0.0086, 0.002, 0.0, 0.0025, 0.0, 0.0, 0.0, 0.0893, 0.5085, 0.0, 0.0148, 0.0, 0.0381, 0.0474, 0.0, 0.0, 0.0, 0.0478, 0.0219, 0.0, 0.1466, 0.1499, 0.1229, 0.0, 0.0, 0.0, 0.0, 0.0, 0.0025, 0.0841, 0.0196, 0.0422, 0.2119, 0.0, 0.0, 0.0108, 0.0, 0.1172, 0.1789, 0.1031, 0.0826, 0.206, 0.0834, 0.3123, 0.0229, 0.1305, 0.0, 0.0, 0.0, 0.0748, 0.0, 0.0025, 0.1974, 0.0, 0.0375, 0.0, 0.0785, 0.0, 0.0, 0.0, 0.4167, 0.05, 0.2102, 0.0108, 0.0, 0.0007, 0.0, 0.0, 0.3389, 0.0308, 0.0, 0.0, 0.183, 0.0, 0.0, 0.0, 0.1361, 0.0804, 0.0, 0.319, 0.4552], \"coloraxis\": \"coloraxis\", \"line\": {\"color\": \"white\", \"width\": 0.8}, \"opacity\": 0.8, \"size\": 10}, \"mode\": \"markers\", \"type\": \"scatter\", \"x\": [15.0, 53.0, 27.0, 40.0, 82.0, 46.0, 59.0, 26.0, 51.0, 1.0, 2.0, 39.0, 65.0, 64.0, 44.0, 15.0, 81.0, 72.0, 17.0, 55.0, 79.0, 5.0, 64.0, 2.0, 69.0, 80.0, 49.0, 50.0, 8.0, 16.0, 32.0, 48.0, 70.0, 29.0, 62.0, 52.0, 55.0, 44.0, 25.0, 50.0, 56.0, 20.0, 53.0, 47.0, 79.0, 64.0, 61.0, 59.0, 23.0, 52.0, 35.0, 80.0, 14.0, 46.0, 21.0, 1.32, 48.0, 41.0, 1.4, 79.0, 19.0, 33.0, 1.0, 32.0, 48.0, 60.0, 39.0, 56.0, 28.0, 50.0, 76.0, 62.0, 27.0, 60.0, 33.0, 20.0, 80.0, 63.0, 21.0, 77.0, 71.0, 27.0, 17.0, 32.0, 35.0, 29.0, 23.0, 41.0, 36.0, 82.0, 52.0, 51.0, 78.0, 37.0, 31.0, 38.0, 12.0, 63.0, 2.0, 58.0, 72.0, 49.0, 31.0, 4.0, 2.0, 40.0, 26.0, 63.0, 15.0, 58.0, 24.0, 41.0, 59.0, 63.0, 50.0, 30.0, 56.0, 25.0, 5.0, 79.0, 18.0, 45.0, 35.0, 41.0, 39.0, 55.0, 50.0, 45.0, 38.0, 79.0, 67.0, 26.0, 53.0, 78.0, 21.0, 12.0, 10.0, 76.0, 60.0, 28.0, 60.0, 30.0, 56.0, 72.0, 41.0, 41.0, 59.0, 59.0, 0.08, 10.0, 54.0, 34.0, 63.0, 63.0, 65.0, 41.0, 33.0, 43.0, 36.0, 23.0, 62.0, 66.0, 57.0, 12.0, 66.0, 55.0, 15.0, 73.0, 2.0, 10.0, 9.0, 44.0, 42.0, 24.0, 14.0, 49.0, 16.0, 47.0, 64.0, 51.0, 4.0, 51.0, 56.0, 29.0, 2.0, 9.0, 57.0, 29.0, 51.0, 9.0, 36.0, 32.0, 26.0, 75.0, 53.0, 63.0, 61.0, 22.0, 33.0, 40.0, 64.0, 36.0, 4.0, 74.0, 30.0, 36.0, 48.0, 36.0, 16.0, 42.0, 69.0, 16.0, 18.0, 53.0, 42.0, 45.0, 40.0, 23.0, 33.0, 22.0, 22.0, 2.0, 50.0, 34.0, 33.0, 54.0, 48.0, 16.0, 11.0, 52.0, 47.0, 37.0, 37.0, 22.0, 69.0, 50.0, 40.0, 47.0, 40.0, 55.0, 50.0, 42.0, 30.0, 48.0, 12.0, 25.0, 41.0, 3.0, 39.0, 79.0, 16.0, 46.0, 62.0, 16.0, 18.0, 60.0, 28.0, 79.0, 22.0, 8.0, 25.0, 0.72, 39.0, 9.0, 52.0, 45.0, 31.0, 56.0, 8.0, 54.0, 13.0, 24.0, 48.0, 7.0, 27.0, 65.0, 55.0, 38.0, 29.0, 3.0, 3.0, 31.0, 68.0, 53.0, 79.0, 37.0, 45.0, 9.0, 0.32, 46.0, 30.0, 76.0, 0.24, 32.0, 67.0, 60.0, 61.0, 45.0, 42.0, 46.0, 50.0, 80.0, 62.0, 12.0, 64.0, 77.0, 78.0, 65.0, 78.0, 12.0, 78.0, 36.0, 25.0, 41.0, 33.0, 2.0, 52.0, 44.0, 61.0, 50.0, 62.0, 38.0, 13.0, 57.0, 52.0, 48.0, 23.0, 52.0, 61.0, 6.0, 51.0, 25.0, 61.0, 4.0, 35.0, 60.0, 12.0, 44.0, 40.0, 57.0, 63.0, 46.0, 74.0, 78.0, 46.0, 63.0, 59.0, 44.0, 50.0, 62.0, 56.0, 76.0, 22.0, 71.0, 18.0, 80.0, 48.0, 50.0, 49.0, 34.0, 54.0, 70.0, 34.0, 38.0, 23.0, 31.0, 72.0, 79.0, 4.0, 76.0, 41.0, 71.0, 8.0, 28.0, 59.0, 56.0, 1.48, 48.0, 42.0, 31.0, 67.0, 51.0, 49.0, 67.0, 56.0, 21.0, 2.0, 19.0, 43.0, 37.0, 56.0, 61.0, 1.32, 47.0, 63.0, 28.0, 55.0, 30.0, 66.0, 48.0, 3.0, 13.0, 40.0, 66.0, 6.0, 49.0, 36.0, 16.0, 21.0, 26.0, 20.0, 28.0, 53.0, 21.0, 8.0, 29.0, 33.0, 63.0, 19.0, 18.0, 71.0, 67.0, 60.0, 49.0, 64.0, 44.0, 10.0, 67.0, 19.0, 68.0, 37.0, 1.08, 41.0, 20.0, 52.0, 4.0, 76.0, 32.0, 76.0, 20.0, 49.0, 30.0, 68.0, 60.0, 55.0, 54.0, 51.0, 82.0, 59.0, 21.0, 12.0, 29.0, 13.0, 59.0, 20.0, 60.0, 51.0, 80.0, 31.0, 59.0, 75.0, 49.0, 13.0, 19.0, 1.4, 8.0, 11.0, 48.0, 0.08, 11.0, 27.0, 44.0, 28.0, 11.0, 40.0, 34.0, 45.0, 52.0, 50.0, 23.0, 53.0, 34.0, 15.0, 78.0, 74.0, 57.0, 7.0, 2.0, 21.0, 46.0, 3.0, 54.0, 38.0, 26.0, 45.0, 9.0, 52.0, 25.0, 62.0, 53.0, 20.0, 14.0, 39.0, 72.0, 31.0, 41.0, 75.0, 44.0, 43.0, 20.0, 64.0, 51.0, 76.0, 27.0, 32.0, 76.0, 27.0, 47.0, 58.0, 50.0, 38.0, 15.0, 24.0, 78.0, 8.0, 29.0, 34.0, 6.0, 79.0, 30.0, 64.0, 38.0, 28.0, 20.0, 7.0, 80.0, 19.0, 78.0, 79.0, 78.0, 35.0, 55.0, 65.0, 20.0, 45.0, 29.0, 56.0, 38.0, 1.64, 51.0, 32.0, 64.0, 25.0, 58.0, 9.0, 57.0, 71.0, 7.0, 57.0, 63.0, 40.0, 25.0, 49.0, 0.88, 42.0, 32.0, 14.0, 82.0, 12.0, 28.0, 23.0, 38.0, 81.0, 34.0, 57.0, 49.0, 73.0, 50.0, 63.0, 63.0, 26.0, 54.0, 74.0, 58.0, 5.0, 79.0, 32.0, 15.0, 2.0, 0.64, 27.0, 53.0, 35.0, 28.0, 40.0, 56.0, 61.0, 1.0, 71.0, 20.0, 61.0, 78.0, 3.0, 56.0, 63.0, 19.0, 5.0, 36.0, 72.0, 17.0, 40.0, 49.0, 14.0, 15.0, 61.0, 13.0, 15.0, 22.0, 28.0, 75.0, 28.0, 67.0, 14.0, 8.0, 78.0, 26.0, 41.0, 60.0, 41.0, 14.0, 60.0, 58.0, 72.0, 57.0, 81.0, 82.0, 57.0, 79.0, 10.0, 42.0, 49.0, 70.0, 1.48, 0.56, 59.0, 47.0, 67.0, 37.0, 52.0, 2.0, 29.0, 66.0, 65.0, 6.0, 27.0, 21.0, 60.0, 19.0, 64.0, 56.0, 55.0, 15.0, 48.0, 1.32, 23.0, 1.32, 62.0, 42.0, 60.0, 47.0, 38.0, 5.0, 61.0, 52.0, 46.0, 20.0, 47.0, 59.0, 70.0, 3.0, 21.0, 75.0, 55.0, 2.0, 21.0, 77.0, 48.0, 1.4, 62.0, 36.0, 1.48, 50.0, 64.0, 34.0, 52.0, 57.0, 19.0, 55.0, 45.0, 36.0, 21.0, 0.8, 65.0, 10.0, 59.0, 26.0, 82.0, 37.0, 69.0, 51.0, 33.0, 63.0, 40.0, 53.0, 50.0, 42.0, 23.0, 8.0, 77.0, 52.0, 52.0, 39.0, 67.0, 24.0, 10.0, 73.0, 38.0, 57.0, 23.0, 38.0, 21.0, 65.0, 78.0, 75.0, 43.0, 71.0, 80.0, 34.0, 69.0, 8.0, 44.0, 33.0, 32.0, 25.0, 51.0, 37.0, 50.0, 38.0, 49.0, 78.0, 82.0, 41.0, 16.0, 4.0, 73.0, 69.0, 10.0, 59.0, 26.0, 79.0, 16.0, 42.0, 53.0, 3.0, 72.0, 22.0, 44.0, 56.0, 71.0, 77.0, 68.0, 54.0, 49.0, 45.0, 12.0, 25.0, 35.0, 42.0, 62.0, 51.0, 55.0, 63.0, 61.0, 45.0, 40.0, 67.0, 65.0, 47.0, 81.0, 73.0, 26.0, 53.0, 45.0, 79.0, 1.8, 22.0, 15.0, 61.0, 71.0, 44.0, 28.0, 78.0, 81.0, 31.0, 49.0, 54.0, 28.0, 14.0, 43.0, 16.0, 42.0, 61.0, 1.72, 41.0, 29.0, 7.0, 66.0, 56.0, 71.0, 45.0, 24.0, 34.0, 61.0, 21.0, 42.0, 11.0, 39.0, 42.0, 80.0, 42.0, 78.0, 2.0, 59.0, 57.0, 11.0, 79.0, 49.0, 37.0, 41.0, 33.0, 25.0, 47.0, 73.0, 19.0, 44.0, 69.0, 34.0, 35.0, 33.0, 43.0, 46.0, 8.0, 5.0, 61.0, 47.0, 75.0, 14.0, 44.0, 47.0, 58.0, 42.0, 82.0, 58.0, 54.0, 12.0, 59.0, 17.0, 43.0, 57.0, 33.0, 0.48, 49.0, 62.0, 69.0, 71.0, 76.0, 53.0, 79.0, 5.0, 21.0, 82.0, 43.0, 45.0, 80.0, 32.0, 70.0, 62.0, 24.0, 73.0, 15.0, 53.0, 43.0, 45.0, 31.0, 78.0, 65.0, 39.0, 58.0, 75.0, 48.0, 5.0, 35.0, 61.0, 53.0, 55.0, 25.0, 10.0, 14.0, 63.0, 2.0, 47.0, 78.0, 20.0, 48.0, 43.0, 55.0, 40.0, 66.0, 30.0, 30.0, 74.0, 46.0, 39.0, 81.0, 57.0, 35.0, 80.0, 60.0, 59.0, 26.0, 4.0, 51.0, 12.0, 7.0, 42.0, 35.0, 2.0, 48.0, 0.24, 52.0, 41.0, 26.0, 67.0, 36.0, 1.0, 30.0, 48.0, 65.0, 62.0, 11.0, 0.32, 37.0, 53.0, 24.0, 70.0, 1.24, 50.0, 24.0, 23.0, 48.0, 20.0, 78.0, 60.0, 23.0, 17.0, 63.0, 19.0, 52.0, 33.0, 52.0, 75.0, 79.0, 82.0, 63.0, 45.0, 68.0, 17.0, 79.0, 64.0, 61.0, 53.0, 52.0, 63.0, 77.0, 23.0, 40.0, 45.0, 81.0, 17.0, 63.0, 72.0, 64.0, 30.0, 52.0, 46.0, 52.0, 37.0, 19.0, 8.0, 3.0, 75.0, 16.0, 11.0, 42.0, 42.0, 67.0, 1.8, 21.0, 40.0, 12.0, 59.0, 46.0, 63.0, 37.0, 39.0, 46.0, 32.0, 23.0, 25.0, 55.0, 41.0, 40.0, 78.0, 4.0, 39.0, 65.0, 32.0, 30.0, 28.0, 8.0, 78.0, 51.0, 19.0, 40.0, 45.0, 82.0, 75.0, 31.0, 57.0, 66.0, 56.0, 54.0, 51.0, 12.0, 70.0, 2.0, 15.0, 35.0, 53.0, 51.0, 44.0, 53.0, 80.0, 1.56, 54.0, 81.0, 48.0, 13.0, 47.0, 18.0, 49.0, 70.0, 44.0, 7.0, 25.0, 65.0, 14.0, 31.0, 50.0, 15.0, 68.0, 18.0, 1.24, 8.0, 4.0, 72.0, 63.0, 42.0, 55.0, 59.0, 34.0, 65.0, 0.8, 25.0, 33.0, 10.0, 65.0, 20.0, 59.0, 52.0, 13.0, 50.0, 25.0, 54.0, 57.0, 7.0, 34.0, 54.0, 51.0, 56.0, 26.0, 47.0, 50.0, 30.0, 49.0, 75.0, 62.0, 42.0, 16.0, 8.0, 59.0, 55.0, 37.0, 35.0, 1.0, 49.0, 49.0, 49.0, 44.0, 68.0, 64.0, 51.0, 66.0, 34.0, 1.16, 41.0, 19.0, 51.0, 47.0, 33.0, 61.0, 57.0, 62.0, 78.0, 26.0, 44.0, 79.0, 34.0, 47.0, 54.0, 58.0, 53.0, 54.0, 59.0, 4.0, 24.0, 47.0, 49.0, 37.0, 31.0, 56.0, 9.0, 12.0, 33.0, 68.0, 81.0, 2.0, 45.0, 37.0, 68.0, 53.0, 18.0, 40.0, 7.0, 68.0, 66.0, 17.0, 69.0, 65.0, 38.0, 63.0, 5.0, 25.0, 26.0, 28.0, 51.0, 56.0, 62.0, 61.0, 82.0, 42.0, 28.0, 36.0, 32.0, 81.0, 71.0, 80.0, 80.0, 53.0, 71.0, 78.0, 47.0, 58.0, 34.0, 44.0, 31.0, 48.0, 1.72, 43.0, 63.0, 44.0, 48.0, 11.0, 64.0, 10.0, 5.0, 26.0, 76.0, 78.0, 60.0, 29.0, 36.0, 51.0, 18.0, 2.0, 71.0, 70.0, 63.0, 4.0, 80.0, 5.0, 17.0, 5.0, 66.0, 71.0, 5.0, 73.0, 80.0], \"y\": [-0.0456650929951402, -0.009339870579607827, -0.040846932970326925, -0.03712170914980366, 0.14800825876413298, 0.001411737959991235, -0.0065430667139859304, -0.044956795183007485, -0.0021768942945993765, -0.0554337227626315, -0.0599837573253185, -0.014068057368028446, 0.02604669278101871, -0.001075719977183537, -0.03227029618897007, 0.005649215409873785, 0.16353736238243025, 0.10059096505938175, -0.045358427353266215, -0.011740723886646298, 0.08960743065959749, -0.05795895082545219, 0.06765030683696305, -0.05337608513825866, 0.11314475139891397, 0.0838847299701093, 0.08219713213246586, -0.005989023325900854, -0.04606209731717525, -0.05620829450973104, -0.024546002307163247, -0.006427897761073325, 0.04066391536467648, -0.05063297272886938, -0.011274871896638986, -0.020883408439754392, 0.003369209901342813, -0.04622021945247509, -0.03235241417131966, -0.002242405878620685, -0.012268877936275725, -0.05619225189795204, -0.003559278066756006, -0.030285293778909046, 0.11616618249816678, -0.00973275757413302, -0.0023152487516158175, -0.014358469697794238, -0.059077041749520685, -0.02472738839996608, -0.02425305106521191, 0.1520560905867285, -0.04425663723856479, 0.015437043826990307, -0.04542876417022943, -0.06167749312925264, -0.009907130802566524, -0.035240464184304564, -0.05620433981782533, 0.14681958156147082, -0.06215073548112812, -0.0538715609507364, -0.0606021326077362, -0.02724863107294543, -0.008177478377918804, -0.0038377914162721666, -0.03121756272526468, -0.0064069457594587275, -0.05741243317532948, 0.038579746008889935, 0.09332179815241189, 0.0020776963139166812, -0.04023489169637786, -0.017386938623088766, -0.029261395590213436, -0.034199350225359804, 0.13550516691814204, 0.014254347502846407, -0.05141370171099109, 0.13509370884633334, 0.17563254214845822, -0.05109755128928106, -0.04172616448388055, -0.03391424642965649, -0.03045135516128201, -0.04855320765715951, -0.04384595347129448, -0.026547844510067333, -0.04116452406250323, 0.10292056012593312, -0.009843572783689974, -0.024274745224253942, 0.08778628006892097, -0.051317289513222064, -0.05987080708690087, -0.008845380165634992, -0.04945262881926434, 0.04546467068395756, -0.05521301069820984, -0.008063154439348266, 0.052065819502370304, -0.007440870152541728, -0.04270470076697823, -0.04789430988374462, -0.06463037059828888, -0.04129780141181135, -0.030967803336918932, 0.07015131076411442, -0.046087153403996654, -0.01720995724950489, -0.03900602675014717, -0.04399370476629263, 0.015421567719474089, 0.05996249380609755, -0.0009377934271735512, -0.05555594832619231, -0.00486429806186117, -0.05833606714395768, -0.05622386818216388, 0.07587716719990832, -0.047487285878904946, -0.040768506731479734, -0.03229020398216837, -0.04383614991751329, -0.02493326102748999, 0.032123165202266726, -0.006488665733935852, -0.038434427415909155, -0.038142593724998154, 0.1051632727408473, 0.06918771714728796, -0.040757855412743994, -0.02248425559406099, 0.08130138730351541, -0.045343405760739454, -0.06364066392799353, -0.056477557416236536, 0.10470274039598124, -0.011186065101793749, -0.037213690307794686, 0.003572224577498221, -0.03651512600657245, 0.026960860071525726, 0.04376993382769069, -0.02433782136630119, -0.022315023418648147, -0.0031722099522604997, 0.0032152685457795265, -0.05613972535083384, -0.05023218049570658, -0.012992267979001645, -0.056420889164465124, 0.012402189117355892, 0.04700093339164476, 0.01123703196801924, -0.040080637691202896, -0.025037147032511503, -0.05606122576270827, -0.04610288536636721, -0.041404350344235404, -0.007658805191374864, 0.013306999931759883, 0.013055346882341778, -0.045013225881851665, 0.023607575026370266, -0.011015308385432554, -0.051776120572075965, 0.1105456956403296, -0.046944557781905434, -0.054908700020996994, -0.05254556668893844, -0.03374052744020971, -0.036445440083875784, -0.024980245239786435, -0.05760691141224986, 0.004523100888745277, -0.053336272518716976, -0.0024325152318243354, -0.006383845322091689, -0.013048660914811307, -0.05732538985944282, -0.015141312680107353, 0.015007722919745807, -0.06532746035049183, -0.04765300128733351, -0.05494620481073152, 0.011889912384834667, -0.053128642146174236, 0.01881524356963298, -0.05046317083477215, -0.04319806278943899, -0.029607423059232876, -0.055101088005212386, 0.14238404199946852, -0.0032975452809105798, 0.006810484577929622, -0.0022605540459260825, -0.044259021428340005, -0.0258464184551991, -0.04085993510772767, 0.003577951096811067, -0.06270894100748775, -0.05374871529914904, 0.06197311123917963, -0.03620133652078097, -0.049509360230038976, -0.006264060452446853, -0.01217006138019902, -0.013078500389591794, -0.03678325095316512, 0.11222415200648528, -0.05383604410313524, -0.0592847645599476, 0.022627948249295263, -0.026533662957121996, -0.027403714072768415, -0.043563357053641574, -0.04790846728788441, -0.030464700953369686, -0.025291898918623323, -0.0526624542991758, -0.04976315740202171, 0.008693745678735591, -0.047531466997639694, -0.041450164042177016, 0.000669121084327961, -0.042433633596763436, -0.035184614978180574, -0.060262673223488106, 0.008437776547615183, -0.013977728257466189, -0.04600854179902494, -0.06856439509012963, -0.04533587931510916, 0.06691711183425866, -0.013815772367232897, -0.03591152843368698, -0.028076863476049877, -0.04512839457649809, -0.0071200595634505134, -0.03195983451242464, -0.03808239661394974, -0.04250583225280227, -0.01331791496200254, -0.03874910369791182, -0.04492850263911099, -0.05860976461113559, -0.05291771190049837, 0.03468510823412414, 0.13953514818225263, -0.03278347248662238, -0.022745968725383602, -0.0013485583706530843, -0.04001054028310755, -0.045339810043680574, 0.011814194002010997, -0.04452548037225863, 0.15403773970415402, -0.06437140394359989, -0.052118625091501204, -0.03598104978343688, -0.05349990536223743, -0.016675975758349868, -0.05112283010908406, -0.027820403344086083, -0.01654916222100887, -0.04563912170194148, -0.00829321490678655, -0.05546702897525429, 0.011009986147328309, -0.05653489456606194, -0.0404418696637461, -0.015032165186495302, -0.050821286009879674, -0.04884828885498916, -0.0033260391161665116, 0.031358377516467056, -0.046890090975275474, -0.033915143112581286, -0.05740122826313505, -0.05111707569440573, -0.0489598147684502, 0.22510774969235486, 0.0029798634652599444, 0.16215742590752555, -0.059772771564329474, -0.02129346133515358, -0.049229777549914984, -0.06477349806537298, -0.02668099769613585, -0.04113780598278956, 0.05993376412750532, -0.04784796518183534, -0.04004110917913819, 0.02759669925339455, -0.003075585209488946, -0.005588687770280261, -0.03375813976333892, -0.04861068679105293, -0.022836670497070364, 0.0326442318448697, 0.15176237055514893, -0.012761680215360968, -0.05738557304761102, 0.005514519802398725, 0.07033319288075916, 0.11951762975134547, 0.009838895384956041, 0.07771756616487394, -0.061323167329603905, 0.04188148718915425, -0.05461529373892284, -0.055378074545247465, -0.04738852135379355, -0.027619461609168405, -0.060187544801192344, -0.01170326794803395, -0.025903184836326344, -0.028065586820161106, 0.0031049753604085544, -0.009001659226987061, -0.03831038449278819, -0.05820880172103704, -0.008650347694160655, -0.014161925502430537, -0.02444942155530182, -0.04609450195356838, -0.0007555579000582606, 0.003577779940213555, -0.048084342799003546, 0.023359014717764803, -0.04651851215332282, -0.001172859431302344, -0.05766448723496487, -0.03624417693256815, 0.014209097958576325, -0.06470488461883883, -0.02698852803627883, -0.056039994689649576, 0.012555122072968676, 0.014612594638688749, -0.0223551499700467, 0.042673501912654795, 0.1239774943938009, -0.016405201189586067, 0.023373450600234193, -0.014814443299119491, -0.025844263259506103, -0.017502072623391447, -0.02000885569982118, -0.01227086156945758, 0.027235834846289886, -0.03791470765996211, 0.15867713420609952, -0.045223420204731836, 0.09742532540598278, -0.03598546806284105, 0.018123613601647336, 0.11160726161983772, -0.027306726519915846, 0.02324241608208047, 0.13184437413980757, -0.05715135542385639, -0.02005032978655173, -0.04909888718028755, -0.05640188792381688, 0.10610376805616582, 0.13478393348254147, -0.057063906595373505, 0.08128961554858981, -0.01823657709295248, 0.06638845978441141, -0.0581556285252248, -0.06448722688990069, 0.007007878583693201, -0.006439708271932968, -0.05598261796021165, 0.0023034512960812157, -0.023040774758208742, -0.03821699889038199, 0.01995846739070841, -0.02104218311464321, 0.013795733524306552, 0.04219147768103653, -0.022090076979572555, -0.04664118263889278, -0.05747059018189674, -0.054828797004328564, -0.02298187305826197, -0.02848521846130198, 0.07198586331934119, -0.005756617663046432, -0.06193097091387127, -0.019171767158145957, 0.012608402421649135, -0.044214197819778076, 0.015248430494730222, -0.0313662577557929, 0.019841338443332336, -0.0060489357008241375, -0.051887807343444066, -0.05224301769936927, -0.039629503337097305, 0.009066147364891402, -0.047125315407881486, 0.01697147591220238, -0.058829472179677544, -0.041088679735238685, -0.03607532526819789, -0.04920839712524777, -0.03584101655294399, -0.06054543115279298, -0.01405155316956298, -0.040954146894166016, -0.04623801056476748, -0.04870246933567381, -0.05164260082744901, -0.0080906590241218, -0.04047484294491017, -0.044005105987179605, 0.0601978152918906, 0.03194520206520823, -0.00987416414764837, 0.002233879601694241, 0.0667435054001236, -0.03267253177458734, -0.046014273095067594, 0.02077094478067564, -0.039985500967194165, 0.2174746845649736, -0.02637576341791207, -0.057333005410065085, -0.031674227393493355, -0.05371474642693491, 0.0009550579898300175, -0.055289475895811235, 0.021998117994555495, -0.035434153511597996, 0.054755977988124725, -0.052019511808945436, 0.00790390252370019, -0.04344970049690323, 0.17114495295634533, -0.0013746946562688284, -0.0015501376632232802, -0.0004642546945152987, -0.005123536267250496, 0.12290712939364455, 0.003305436820139508, -0.056493623533520165, -0.044603832051884174, -0.03431427971679836, -0.05219164471622228, -0.0051750779753085676, -0.06465150584666218, -0.003442830621112053, 0.0028731778950118153, 0.1402077961363943, -0.026435728970261512, -0.017378466892349186, 0.07134648452123983, 0.0008219871327964375, -0.05112934122513139, -0.04596053513435617, -0.046581483133371286, -0.04726566502475903, -0.06288558819211548, -0.013321521170525038, -0.05927667104723537, -0.05949031518405932, -0.0420124906884548, -0.038960323581104093, -0.04825641114622486, -0.046253016930722285, -0.02943662120953961, -0.029825782628452344, -0.002175240316315146, -0.005201018048736781, 0.02882942641981981, -0.04869244043086681, -0.002780285813129495, -0.03713304600846185, -0.06021094001285185, 0.13581433292508513, 0.048435998101622996, -0.017394618048373132, -0.06086632008081901, -0.04607185648450169, -0.030455952953190413, -0.029145328334085122, -0.05714586075498941, 0.017620048354647706, -0.019093051795541226, -0.043607843228035806, -0.03142033379081411, -0.04904296944284153, 0.025325790120763397, -0.05533424788385728, 0.04723317938050308, 0.07116829983931815, -0.03486429535608054, -0.03640480350007239, -0.030266677881055457, 0.06094188133987255, -0.03421030205749762, -0.04657866345131665, 0.08736640253912009, -0.02875812424275254, -0.045165530398327776, -0.04975276498655647, -0.0013243179421777737, -0.010547387271681405, 0.13975579227860413, -0.035929786092072945, -0.02176001530925643, 0.10297154713192345, -0.04607886544529707, -0.019375799091028743, -0.01888899533567655, -0.030686598980372997, -0.01517207643410829, -0.058647727773148285, -0.038851145847709816, 0.05866363016755152, -0.04690980472066544, -0.032904545624736416, -0.03622680255939038, -0.054980810533753206, 0.12573080159076305, -0.03799627553151965, -0.0008064248434134228, -0.027136476082079992, -0.037126199314349746, -0.034948444098797486, -0.04409935015091845, 0.14222481707345377, -0.03434747437110302, 0.08132185861216121, 0.0758827641864371, 0.10971186867032552, -0.0488612947456075, -0.007154729974068126, 0.04003548175552916, -0.052705562898379785, -0.01928912580107638, -0.03467694955469967, -0.012900625271562096, -0.02306816421330789, -0.05219583775053511, -0.007463483708462034, -0.023957546689866736, 0.000886365303335479, -0.05524481500931014, -0.0032011662855078974, -0.058077160771885586, 0.006262715387675008, 0.09740677661328548, -0.06102057783167024, -0.004275303870126815, 0.060573267066809676, -0.026956220240427774, -0.03289365724527697, -0.006306769508966589, -0.05802155438979599, -0.032558238185962866, -0.00993373225213543, -0.04750359269045542, 0.12789480138349607, -0.0516968891674478, -0.04418403301336398, -0.045804502139560846, -0.023167639057338697, 0.20547287813279502, -0.0476107534322058, -0.012416141046854798, -0.006831451202413794, 0.04017654053925387, -0.0010642047075686393, 0.052661187408052354, 0.03128972838136885, -0.053503434150529404, 0.03218161718799083, 0.05163179984236872, -0.007137381340673716, -0.05067890262242233, 0.15393658194019097, -0.020141582762322037, -0.048259108979934566, -0.04658815319416372, -0.05305899066644304, -0.05846038376297614, -0.020205880110872897, -0.03814902685224547, -0.04707025576178705, -0.0331115423850073, 0.004768475910652326, 0.001799380340665907, -0.06156016904887549, 0.1279903229727372, -0.04910706928918457, -0.018252407308468978, 0.06918301402192634, -0.058424519348564845, 0.0017290197091594996, 0.13087990196734361, -0.05029854079311776, -0.060720635877728434, -0.04215493556152844, 0.08773753644843962, -0.04078808586353455, -0.03948321944982918, -0.008006456271882616, -0.05672683759136154, -0.05494671783289247, -0.009165730308942589, -0.046208887609079735, -0.03894409718694652, -0.04801333454217799, -0.03822471833099884, 0.15381910543271396, -0.03219512157458042, 0.020578503544442715, -0.03379685183000489, -0.059973808010562846, 0.13332849650790604, -0.053190417228677594, -0.03109416578134886, 0.007115813179734925, -0.03424523096997248, -0.05212238239356283, -0.008570600552733692, 0.0045970040435376015, 0.07073517665109207, -0.004177024511804063, 0.23026671089223122, 0.1660313938550527, 0.006168166275675764, 0.17174062244084365, -0.06107730358936062, -0.02750622161556263, 0.021374136837574026, 0.053591648169863546, -0.047964555069599485, -0.055633703177988665, 0.03397770071586729, -0.06947277966342717, 0.034871042704434696, -0.02621470240868398, -0.02867873763498181, -0.05568757132218359, -0.05402881911624319, 0.012030855110301834, -0.005570332119731382, -0.05173197864584167, -0.05953482759875297, -0.044384011312412194, 0.005092465391051051, -0.037567600925226846, 0.0025072456994091013, 0.02217150797253746, 0.012144197119636149, -0.0554043864467544, 0.04543358689154497, -0.048155503759649915, -0.04168558576239541, -0.060780116796852, -0.00577945318667918, -0.03468289761029311, -0.006286985762990931, -0.02819516865121105, -0.013270964475230664, -0.05647726242791831, -0.01070691832619384, -0.01640117498229275, -0.02784283933869584, -0.04691326204330351, -0.015393597235620858, -0.010343523607676777, 0.08516999427555105, -0.04610015390918336, -0.046665089220920726, 0.06828801038941082, -0.009476589539023505, -0.04977758015267643, -0.042280573601125776, 0.06064338944520643, -0.014221998323156957, -0.05880419015729424, -0.008854563329847333, -0.025809050957586965, -0.05223595182007147, -0.000812110542503568, 0.057327418295387865, -0.0517846191356722, -0.007381003770353058, 0.004171820207938369, -0.05681377951820854, 0.00831640132984755, -0.03837957263472351, -0.030995835319432254, -0.03438465326733592, -0.06062699094645248, 0.005742237079303365, -0.057174884488619515, -0.013088137504153758, -0.041708729629031, 0.10264061685513508, -0.036450413932896795, 0.05541332163067318, -0.01603775621878682, -0.05312332577066207, 0.045220425516860695, -0.0257421219652946, -0.016084910226014094, -0.01112521640195146, -0.04062141966539186, -0.0369800379167714, -0.04993372856539365, 0.0933242690213825, 0.006580640412554168, -0.00560917208780047, -0.005327926165620821, 0.028217836448447487, -0.035558615105029716, -0.051759675471070694, 0.1333662560810521, -0.030786246023583982, 0.022233457120012127, -0.050491850161472146, -0.03092268641664348, -0.03722453308299928, 0.002106410045036505, 0.07019067924395969, 0.041117305831144084, -0.025698688890541926, 0.07011510647530052, 0.15727723535930538, -0.04250827788764335, 0.15057482146282464, -0.06032041805932415, -0.03902463575112677, -0.04211507599591403, -0.030443763114060825, -0.040887056031980555, -0.010280964115575516, -0.033798066258460165, -0.011172591785838615, -0.02933102420934117, -0.024586398974733952, 0.13046621232439212, 0.15621386467023887, -0.045625850133207545, -0.046664201574882186, -0.05512487278996526, 0.10636193785725029, 0.07663692194732517, -0.0598891916469035, 0.021484297083442103, -0.038218058080518785, 0.15763580289349874, -0.04043406985702888, -0.029121937124631053, 0.008992661282785966, -0.055680370840245644, 0.08455648700681416, -0.05511024309823395, -0.04270997344097723, -0.008386408879934701, 0.10158435255017899, 0.06951459199787512, 0.18175196975292615, 0.00019310176497994378, 0.02136035022361875, -0.022057487034479413, -0.05606672653439635, -0.030632084050195813, -0.038692997556555093, -0.04449835744083854, 0.011236063196043936, -0.005956457824455329, -0.013371615239573052, 0.01678541708156386, -0.009415098298371363, -0.01062862831807987, -0.028091057244437133, 0.05134380406714204, 0.007118805715030013, -0.024359849902804022, 0.1627330412336421, 0.060017910844884295, -0.0492665425004092, -0.015639989405839515, -0.02194323542961273, 0.09770568764258074, -0.06606754810356161, -0.05463198075288209, -0.051423044904131104, -0.032811051487029126, 0.17473046674483947, -0.040841430786235325, -0.042873787642721206, 0.11963832633368321, 0.15986071936408747, -0.028393957298711393, -0.010355368516526093, 0.007413376148170271, -0.05737365877573334, -0.050974639809053236, -0.03987951421154911, -0.040189073420880406, -0.03218074855272892, 0.004011055040286741, -0.05902041900266536, -0.03038680921182806, -0.04881267673834977, -0.046501654856537455, 0.019384943026924135, -0.0025685958167588918, 0.07395308698570983, -0.028732455934388886, -0.03988325849253255, -0.053339033399584755, -0.010706611149296082, -0.044488239290983, -0.029678123197021206, -0.04544382975909095, 0.04264715793367291, -0.02896919799798792, 0.17312982390204595, -0.030481766895570354, 0.10769813276531269, -0.05949648610887535, -0.0020590202546344107, 0.019681163293461628, -0.05724040237406919, 0.09429684240529689, 0.005476301945387471, -0.041722369548775555, -0.028310536449115895, -0.039244411381746495, -0.05115612959559885, -0.028132034040254293, 0.060107436702353266, -0.04021558617817136, -0.02603650376042769, 0.0820378681568217, -0.011240499677085286, -0.026348611922415412, -0.03277559205254049, -0.02335935155240898, -0.01910445625042302, -0.049708678943943915, -0.05934149116212332, 0.0026657033809541378, 0.019992528725081324, 0.018809614205030075, -0.04802964390107127, -0.03482231937710098, -0.02065590952964366, -0.008738102634195787, -0.02881770293554172, 0.18673544988654922, -0.014855163660174876, 0.027619590322183536, -0.04026501981943336, 0.0056044977089418305, -0.04790412790747287, -0.03790924075149989, -0.00046864667933043297, -0.040529708581682165, -0.05184933796373218, 0.02035825582682544, -0.008676102581317506, 0.07508834360390625, 0.1375955992435478, 0.015638339017946028, -0.01334843781927294, 0.1134176901945625, -0.06763332078837155, -0.04977282970005089, 0.1769766704409957, -0.043599708915284384, -0.05039590386681834, 0.17979354615686413, -0.050573167340386256, 0.04621935068346094, -0.011097832439932148, -0.042272473243981826, 0.05975378388678585, -0.034323971180369936, -0.013221559792806264, -0.03681507223841091, -0.0342291750038487, -0.04530136354734173, 0.06374106046179055, 0.0011210709437121603, 0.013869204263644854, 0.03225439966965757, 0.04542609437829528, -0.010164530994235555, -0.05554816542908788, -0.046867370133643706, -0.02026204570183361, -0.03226690309686053, -0.003270266840417046, -0.05638249909539507, -0.052441325595059395, -0.04915028619672269, 0.0716404359619267, -0.06781117438297968, -0.02741405548264575, 0.16184000018741787, -0.048533843701856975, 0.1034683459681756, -0.026814946559829658, -0.001596501287181212, -0.034188874724099524, 0.016438682638292852, -0.05017905833353702, -0.028234269239872406, 0.04814863819171776, -0.01226375888678646, -0.02156943551668357, 0.17255578768084603, -0.0023944615576804934, -0.030509788015229578, 0.19441230566150436, -0.018156892852707093, -0.013005876226169626, -0.04869732536854724, -0.05771559834733784, -0.020876059874609092, -0.06850905974886404, -0.05370509939858962, -0.045062603831351085, -0.03399887378641248, -0.056025515810718254, -0.01622550161874386, -0.06194429199164742, 0.007423541515504062, -0.029688585809369287, -0.03970500471422653, 0.04130474159603802, -0.06330786587250817, -0.04982009202295907, -0.046173301655706364, -0.015247815352319205, -0.005846610140230143, -0.007276410838606914, -0.06135109481750386, -0.05111109306944398, -0.013833464117588897, -0.011743939234803987, -0.04687504277512043, 0.08171520801145839, -0.05213255988296161, 0.003370399980925151, -0.05900292909094642, -0.03994038342527594, -0.02565841785869752, -0.06608887469581061, 0.04623405186573886, 0.01511358163592559, -0.013284802462203987, -0.03274809208539502, 0.011537823745702632, -0.038373960481414705, -0.023523764312112196, -0.06005262446650486, -0.011875045736924791, 0.09924676012843978, 0.12991625472501867, 0.1582269349910479, 0.0009249905083916644, -0.014722041761514981, 0.1421684388209491, -0.04852305041594927, 0.119886126244371, -0.004304793465339767, 0.009091517984542347, -0.022598670390762746, -0.009557045698503035, 0.011286114446275959, 0.1923923801510192, -0.03625645227867102, -0.025026035985740717, -0.024236802704749337, 0.12443715840301349, -0.055943994162595614, 0.0011162908112956455, 0.060601122458504596, -0.0020502043453826547, -0.03593760749421384, 0.012021385382131594, -0.026680981085931865, -0.008424066223510947, -0.0474124679350125, -0.046946672495341124, -0.06153391817911567, -0.04927344340288956, 0.08253243975966643, -0.05757842845260895, -0.04391399603048288, -0.029586448757315233, -0.0375084721246281, 0.0989317633806983, -0.06212095803719581, -0.044760606671599, -0.0386447403798811, -0.05256584248045832, 0.007450682881780913, -0.030886960955576307, 0.00672476390508671, -0.043968137539647956, 0.055807817398107445, -0.01978144584095219, -0.04705818322810824, -0.039669638199645786, -0.031396766688172734, -0.01271556830950374, -0.0358682977696527, -0.029870159582246043, 0.1273542148303198, -0.062477668397484865, 0.04816160632327076, 0.015955681266281354, -0.036578610286207, -0.04850583455798918, -0.03449887258415511, -0.05519327235112655, 0.08309430090231525, 2.0867326492565302e-05, -0.048783221216476214, -0.07000642886500147, -0.026133808525378225, 0.2562836727318364, 0.1569345421774741, -0.04983483827449868, 0.01987624127420421, 0.04437774979777398, -0.007597913284850653, 0.0049499198400727, -0.017489337572999964, -0.043477278538446774, 0.030925134231687027, -0.06153623358251998, -0.04227421060387364, -0.046054638962466234, 0.016524285449143448, -0.02049675267308622, -0.0362687901073458, -0.009598352965846728, 0.11752927017650704, -0.0522990587681751, 0.015503452277288518, 0.1278159929866141, -0.005950694898778806, -0.056774815395728755, -0.0320752016305249, -0.04437830377817983, -0.002460469615814051, 0.10073697717682925, -0.023454361798648408, -0.05794124682864499, -0.05060138979564144, 0.008193461323134458, -0.06274723461279928, -0.0419734056880845, 0.04016030459777297, -0.03892607618721841, 0.18779546827780563, -0.05910552422263234, -0.0598904506477831, -0.050890800895502845, -0.05023878713721959, 0.1822406382063742, -7.166332252914224e-05, -0.03875066639032511, -0.005464725671596979, -0.0024924691169998917, -0.04404283617763767, -0.012921371059632298, -0.059578218892018635, -0.05329880175125309, 0.030908525596042787, -0.048781685942923335, 0.0027410355339809503, -0.03431219713713419, -0.010064673992570614, 0.007880694894341334, -0.048907643300489, -0.007103917343940818, -0.039594068146166964, -0.0006243066663531283, -0.025006487957140465, -0.05549325579898024, -0.05490012211123807, 0.0061311161693209494, -0.008404597544311866, -0.0016333054431490201, -0.028361259190228475, -0.014679117318818949, -0.001263959114298809, -0.03422514007110444, 0.060285533857723096, 0.12021906561693096, -0.012711309549633077, -0.038670796219076854, -0.05080812565348127, -0.07279116774146355, 0.005821089759634435, -0.012357302078324297, -0.039688527019746775, -0.027427978593931934, -0.04281094165965381, 0.0014937848974285958, -0.021431173166532556, 0.08389369814673697, -0.03201910663812148, 0.23757334031825034, 0.030125597200773856, -0.013287774702153145, 0.007924241808988274, -0.047600757175395164, -0.05871890321983656, -0.03495344414502839, -0.04919357635549796, 0.013781110718262766, -0.0504934365329896, -0.03048770936952675, 0.03493456752292821, -0.0040937240157971205, -0.026727780494000087, 0.07029662053397971, -0.04469362284579472, -0.04128225985382997, 0.11418160671239792, -0.023591405503565147, -0.03132141634354391, 0.024605435805444238, 0.020372461882564752, -0.004671786115418318, 0.031521913493397016, 0.006049565943348632, -0.06261664553946268, -0.05045365949736857, -0.04640318214938146, 0.004905112922252928, -0.022918726983374892, -0.03279872377407199, -0.00778229195142722, -0.05673874705649993, -0.04657457741413472, -0.035736991459718016, 0.1176422684644635, 0.26260909925480636, -0.055552806572578856, -0.010699760026247762, -0.040267935875521306, 0.08520660815894601, -0.02996280299796112, -0.06520002616393775, -0.02639579951050105, -0.06316710732407342, 0.10200219985195735, 0.013963574136068982, -0.05657063662543526, 0.10262658154920781, 0.03226807929892095, 0.014759951255106036, -0.01088036197838363, -0.05353434916691934, -0.054285538750881816, -0.04420320963548252, -0.0254241866935264, -0.008051142803243908, 0.017246382614654658, -0.024092236150549947, -0.011919976167374552, 0.19672559727175867, -0.028439743911818263, -0.039933424591949096, -0.033879305513356085, -0.022548734277430333, 0.11942413867252115, 0.08925782754250221, 0.10779646046769524, 0.1035403214473892, 0.028428210560173126, 0.07467506939622846, 0.17177411306876664, -0.028997889848917043, -0.010325005930853491, -0.03573173715321721, -0.029939243956875205, -0.03619781933698401, 0.014221802702966791, -0.057772020272928847, -0.046745570869181775, 0.06419390257821232, -0.038570836424040335, -0.006064619511763191, -0.04697918607967091, 0.01186182325590512, -0.0581010451016774, -0.06118345423774043, -0.037057690311375346, 0.16490411024942714, 0.06761562870293251, 0.031144891168246622, -0.043279359622772004, -0.04948300608764881, -0.01777308787815933, -0.04609582379163155, -0.05812821976338753, 0.16372308134770644, 0.053956201873944516, 0.006782243196646361, -0.04704487731535486, 0.14619482839699546, -0.06045362162162822, -0.05175404524428115, -0.05436695174344025, 0.053271978157930555, 0.07296358811350842, -0.04378628084052063, 0.15641298197428735, 0.2651195421738419]}],                        {\"coloraxis\": {\"colorbar\": {\"title\": {\"text\": \"Predicted\"}}, \"colorscale\": [[0.0, \"rgb(52, 55, 54)\"], [0.0, \"rgb(74, 99, 138)\"], [0.0, \"rgb(116, 153, 214)\"], [0.0, \"rgb(162, 188, 213)\"], [0.0, \"rgb(212, 234, 242)\"], [0.008194226582071033, \"rgb(235, 216, 134)\"], [0.029368108070142566, \"rgb(255, 204, 83)\"], [0.07257509423360568, \"rgb(244 ,192, 0)\"], [0.14298223023435488, \"rgb(255, 166, 17)\"], [0.29635239856718093, \"rgb(255, 123, 38)\"], [1.0, \"rgb(255, 77, 7)\"]]}, \"height\": 600, \"hovermode\": \"closest\", \"template\": {\"data\": {\"scatter\": [{\"type\": \"scatter\"}]}}, \"title\": {\"font\": {\"color\": \"rgb(50, 50, 50)\", \"family\": \"Arial\", \"size\": 24}, \"text\": \"<b>age</b> - Feature Contribution\", \"x\": 0.5, \"xanchor\": \"center\", \"y\": 0.9, \"yanchor\": \"middle\"}, \"width\": 900, \"xaxis\": {\"automargin\": true, \"title\": {\"font\": {\"color\": \"rgb(50, 50, 50)\", \"family\": \"Arial Black\", \"size\": 16}, \"text\": \"age\"}}, \"yaxis\": {\"automargin\": true, \"title\": {\"font\": {\"color\": \"rgb(50, 50, 50)\", \"family\": \"Arial Black\", \"size\": 16}, \"text\": \"Contribution\"}}},                        {\"responsive\": true}                    ).then(function(){\n",
              "                            \n",
              "var gd = document.getElementById('8a08fcb7-c80b-4a20-85ea-e8dd234eb834');\n",
              "var x = new MutationObserver(function (mutations, observer) {{\n",
              "        var display = window.getComputedStyle(gd).display;\n",
              "        if (!display || display === 'none') {{\n",
              "            console.log([gd, 'removed!']);\n",
              "            Plotly.purge(gd);\n",
              "            observer.disconnect();\n",
              "        }}\n",
              "}});\n",
              "\n",
              "// Listen for the removal of the full notebook cells\n",
              "var notebookContainer = gd.closest('#notebook-container');\n",
              "if (notebookContainer) {{\n",
              "    x.observe(notebookContainer, {childList: true});\n",
              "}}\n",
              "\n",
              "// Listen for the clearing of the current output cell\n",
              "var outputEl = gd.closest('.output');\n",
              "if (outputEl) {{\n",
              "    x.observe(outputEl, {childList: true});\n",
              "}}\n",
              "\n",
              "                        })                };                            </script>        </div>\n",
              "</body>\n",
              "</html>"
            ]
          },
          "metadata": {
            "tags": []
          }
        }
      ]
    },
    {
      "cell_type": "code",
      "metadata": {
        "colab": {
          "base_uri": "https://localhost:8080/",
          "height": 163
        },
        "id": "vEJY7-rftYb5",
        "outputId": "a48d92dd-8b14-4d3c-d9e1-ea2fbb015bb8"
      },
      "source": [
        "predictor=xpl.to_smartpredictor()"
      ],
      "execution_count": 1,
      "outputs": [
        {
          "output_type": "error",
          "ename": "NameError",
          "evalue": "ignored",
          "traceback": [
            "\u001b[0;31m---------------------------------------------------------------------------\u001b[0m",
            "\u001b[0;31mNameError\u001b[0m                                 Traceback (most recent call last)",
            "\u001b[0;32m<ipython-input-1-c9a595d0127c>\u001b[0m in \u001b[0;36m<module>\u001b[0;34m()\u001b[0m\n\u001b[0;32m----> 1\u001b[0;31m \u001b[0mpredictor\u001b[0m\u001b[0;34m=\u001b[0m\u001b[0mxpl\u001b[0m\u001b[0;34m.\u001b[0m\u001b[0mto_smartpredictor\u001b[0m\u001b[0;34m(\u001b[0m\u001b[0;34m)\u001b[0m\u001b[0;34m\u001b[0m\u001b[0;34m\u001b[0m\u001b[0m\n\u001b[0m",
            "\u001b[0;31mNameError\u001b[0m: name 'xpl' is not defined"
          ]
        }
      ]
    },
    {
      "cell_type": "code",
      "metadata": {
        "id": "qA6t5KdPuqD-"
      },
      "source": [
        ""
      ],
      "execution_count": null,
      "outputs": []
    }
  ]
}